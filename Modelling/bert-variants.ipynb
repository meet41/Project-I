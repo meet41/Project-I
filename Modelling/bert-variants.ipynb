{
 "cells": [
  {
   "cell_type": "markdown",
   "id": "8faf3a61",
   "metadata": {},
   "source": [
    "## DistillBert Model"
   ]
  },
  {
   "cell_type": "code",
   "execution_count": 43,
   "id": "e6874b34",
   "metadata": {},
   "outputs": [],
   "source": [
    "results = []"
   ]
  },
  {
   "cell_type": "code",
   "execution_count": 1,
   "id": "423fbd68",
   "metadata": {},
   "outputs": [
    {
     "name": "stdout",
     "output_type": "stream",
     "text": [
      "Defaulting to user installation because normal site-packages is not writeable\n",
      "Requirement already satisfied: pandas in c:\\users\\meet\\appdata\\roaming\\python\\python313\\site-packages (2.3.1)\n",
      "Requirement already satisfied: scikit-learn in c:\\users\\meet\\appdata\\roaming\\python\\python313\\site-packages (1.7.1)\n",
      "Requirement already satisfied: torch in c:\\users\\meet\\appdata\\roaming\\python\\python313\\site-packages (2.8.0)\n",
      "Requirement already satisfied: transformers in c:\\users\\meet\\appdata\\roaming\\python\\python313\\site-packages (4.55.4)\n",
      "Requirement already satisfied: numpy>=1.26.0 in c:\\users\\meet\\appdata\\roaming\\python\\python313\\site-packages (from pandas) (2.2.6)\n",
      "Requirement already satisfied: python-dateutil>=2.8.2 in c:\\users\\meet\\appdata\\roaming\\python\\python313\\site-packages (from pandas) (2.9.0.post0)\n",
      "Requirement already satisfied: pytz>=2020.1 in c:\\users\\meet\\appdata\\roaming\\python\\python313\\site-packages (from pandas) (2025.2)\n",
      "Requirement already satisfied: tzdata>=2022.7 in c:\\users\\meet\\appdata\\roaming\\python\\python313\\site-packages (from pandas) (2025.2)\n",
      "Requirement already satisfied: scipy>=1.8.0 in c:\\users\\meet\\appdata\\roaming\\python\\python313\\site-packages (from scikit-learn) (1.16.1)\n",
      "Requirement already satisfied: joblib>=1.2.0 in c:\\users\\meet\\appdata\\roaming\\python\\python313\\site-packages (from scikit-learn) (1.5.1)\n",
      "Requirement already satisfied: threadpoolctl>=3.1.0 in c:\\users\\meet\\appdata\\roaming\\python\\python313\\site-packages (from scikit-learn) (3.6.0)\n",
      "Requirement already satisfied: filelock in c:\\users\\meet\\appdata\\roaming\\python\\python313\\site-packages (from torch) (3.19.1)\n",
      "Requirement already satisfied: typing-extensions>=4.10.0 in c:\\users\\meet\\appdata\\roaming\\python\\python313\\site-packages (from torch) (4.14.1)\n",
      "Requirement already satisfied: sympy>=1.13.3 in c:\\users\\meet\\appdata\\roaming\\python\\python313\\site-packages (from torch) (1.14.0)\n",
      "Requirement already satisfied: networkx in c:\\users\\meet\\appdata\\roaming\\python\\python313\\site-packages (from torch) (3.5)\n",
      "Requirement already satisfied: jinja2 in c:\\users\\meet\\appdata\\roaming\\python\\python313\\site-packages (from torch) (3.1.6)\n",
      "Requirement already satisfied: fsspec in c:\\users\\meet\\appdata\\roaming\\python\\python313\\site-packages (from torch) (2025.7.0)\n",
      "Requirement already satisfied: setuptools in c:\\users\\meet\\appdata\\roaming\\python\\python313\\site-packages (from torch) (80.9.0)\n",
      "Requirement already satisfied: huggingface-hub<1.0,>=0.34.0 in c:\\users\\meet\\appdata\\roaming\\python\\python313\\site-packages (from transformers) (0.34.4)\n",
      "Requirement already satisfied: packaging>=20.0 in c:\\users\\meet\\appdata\\roaming\\python\\python313\\site-packages (from transformers) (25.0)\n",
      "Requirement already satisfied: pyyaml>=5.1 in c:\\users\\meet\\appdata\\roaming\\python\\python313\\site-packages (from transformers) (6.0.2)\n",
      "Requirement already satisfied: regex!=2019.12.17 in c:\\users\\meet\\appdata\\roaming\\python\\python313\\site-packages (from transformers) (2024.11.6)\n",
      "Requirement already satisfied: requests in c:\\users\\meet\\appdata\\roaming\\python\\python313\\site-packages (from transformers) (2.32.4)\n",
      "Requirement already satisfied: tokenizers<0.22,>=0.21 in c:\\users\\meet\\appdata\\roaming\\python\\python313\\site-packages (from transformers) (0.21.4)\n",
      "Requirement already satisfied: safetensors>=0.4.3 in c:\\users\\meet\\appdata\\roaming\\python\\python313\\site-packages (from transformers) (0.6.2)\n",
      "Requirement already satisfied: tqdm>=4.27 in c:\\users\\meet\\appdata\\roaming\\python\\python313\\site-packages (from transformers) (4.67.1)\n",
      "Requirement already satisfied: six>=1.5 in c:\\users\\meet\\appdata\\roaming\\python\\python313\\site-packages (from python-dateutil>=2.8.2->pandas) (1.17.0)\n",
      "Requirement already satisfied: mpmath<1.4,>=1.1.0 in c:\\users\\meet\\appdata\\roaming\\python\\python313\\site-packages (from sympy>=1.13.3->torch) (1.3.0)\n",
      "Requirement already satisfied: colorama in c:\\users\\meet\\appdata\\roaming\\python\\python313\\site-packages (from tqdm>=4.27->transformers) (0.4.6)\n",
      "Requirement already satisfied: MarkupSafe>=2.0 in c:\\users\\meet\\appdata\\roaming\\python\\python313\\site-packages (from jinja2->torch) (3.0.2)\n",
      "Requirement already satisfied: charset_normalizer<4,>=2 in c:\\users\\meet\\appdata\\roaming\\python\\python313\\site-packages (from requests->transformers) (3.4.2)\n",
      "Requirement already satisfied: idna<4,>=2.5 in c:\\users\\meet\\appdata\\roaming\\python\\python313\\site-packages (from requests->transformers) (3.10)\n",
      "Requirement already satisfied: urllib3<3,>=1.21.1 in c:\\users\\meet\\appdata\\roaming\\python\\python313\\site-packages (from requests->transformers) (2.5.0)\n",
      "Requirement already satisfied: certifi>=2017.4.17 in c:\\users\\meet\\appdata\\roaming\\python\\python313\\site-packages (from requests->transformers) (2025.7.14)\n"
     ]
    },
    {
     "name": "stderr",
     "output_type": "stream",
     "text": [
      "\n",
      "[notice] A new release of pip is available: 25.1.1 -> 25.2\n",
      "[notice] To update, run: python.exe -m pip install --upgrade pip\n"
     ]
    }
   ],
   "source": [
    "!pip install pandas scikit-learn torch transformers"
   ]
  },
  {
   "cell_type": "code",
   "execution_count": 32,
   "id": "73f4eadb",
   "metadata": {},
   "outputs": [],
   "source": [
    "from sklearn.metrics import accuracy_score, f1_score, precision_score, recall_score, confusion_matrix, classification_report\n",
    "import numpy as np\n",
    "import time"
   ]
  },
  {
   "cell_type": "code",
   "execution_count": 3,
   "id": "307fd48b",
   "metadata": {},
   "outputs": [
    {
     "name": "stdout",
     "output_type": "stream",
     "text": [
      "                                       question_text      topic\n",
      "0  organ choos concern eye stage three point desp...    quantum\n",
      "1  certainli turn marriag consid environ school p...     climat\n",
      "2                       marriag best film dream wish  psycholog\n",
      "3  guess soon hair compani letter fund mission me...    histori\n",
      "4  know say congress view wear amount money succe...     machin\n"
     ]
    }
   ],
   "source": [
    "# prepare\n",
    "import pandas as pd\n",
    "import ast\n",
    "\n",
    "df = pd.read_csv(r\"E:\\Sem 7 Project\\Datasets\\Preprocessed Datasets\\output_part_1.csv\")\n",
    "df['question_text'] = df['question_text'].apply(ast.literal_eval).apply(lambda x: ' '.join(x))\n",
    "df['topic'] = df['topic'].apply(ast.literal_eval).apply(lambda x: x[0] if len(x) > 0 else '')\n",
    "print(df[['question_text', 'topic']].head())"
   ]
  },
  {
   "cell_type": "code",
   "execution_count": 5,
   "id": "d2cedf3a",
   "metadata": {},
   "outputs": [
    {
     "name": "stdout",
     "output_type": "stream",
     "text": [
      "               topic  label\n",
      "6           artifici      0\n",
      "28        blockchain      1\n",
      "10            career      2\n",
      "1             climat      3\n",
      "5         cybersecur      4\n",
      "39              data      5\n",
      "17             digit      6\n",
      "9               educ      7\n",
      "22  entrepreneurship      8\n",
      "7        environment      9\n",
      "69            health     10\n",
      "3            histori     11\n",
      "4             machin     12\n",
      "31            person     13\n",
      "2          psycholog     14\n",
      "0            quantum     15\n",
      "20             robot     16\n",
      "18          sociolog     17\n",
      "8              space     18\n",
      "14               web     19\n"
     ]
    }
   ],
   "source": [
    "# encode labels\n",
    "from sklearn.preprocessing import LabelEncoder\n",
    "\n",
    "le = LabelEncoder()\n",
    "df['label'] = le.fit_transform(df['topic'])\n",
    "num_labels = len(le.classes_)\n",
    "print(df[['topic', 'label']].drop_duplicates().sort_values('label'))"
   ]
  },
  {
   "cell_type": "code",
   "execution_count": 6,
   "id": "ee9a9f0a",
   "metadata": {},
   "outputs": [
    {
     "name": "stdout",
     "output_type": "stream",
     "text": [
      "160 40\n"
     ]
    }
   ],
   "source": [
    "# train splits\n",
    "from sklearn.model_selection import train_test_split\n",
    "\n",
    "train_texts, val_texts, train_labels, val_labels = train_test_split(\n",
    "    df['question_text'], df['label'], test_size=0.2, random_state=42, stratify=df['label']\n",
    ")\n",
    "print(len(train_texts), len(val_texts))"
   ]
  },
  {
   "cell_type": "code",
   "execution_count": 7,
   "id": "e197b002",
   "metadata": {},
   "outputs": [
    {
     "name": "stdout",
     "output_type": "stream",
     "text": [
      "KeysView({'input_ids': tensor([[  101, 17935,  3775,  ...,     0,     0,     0],\n",
      "        [  101,  3813,  2529,  ...,     0,     0,     0],\n",
      "        [  101,  2025,  2594,  ...,     0,     0,     0],\n",
      "        ...,\n",
      "        [  101,  2530,  3519,  ...,     0,     0,     0],\n",
      "        [  101,  2345,  5770,  ...,     0,     0,     0],\n",
      "        [  101,  3693,  3095,  ...,     0,     0,     0]]), 'attention_mask': tensor([[1, 1, 1,  ..., 0, 0, 0],\n",
      "        [1, 1, 1,  ..., 0, 0, 0],\n",
      "        [1, 1, 1,  ..., 0, 0, 0],\n",
      "        ...,\n",
      "        [1, 1, 1,  ..., 0, 0, 0],\n",
      "        [1, 1, 1,  ..., 0, 0, 0],\n",
      "        [1, 1, 1,  ..., 0, 0, 0]])})\n"
     ]
    }
   ],
   "source": [
    "# tokenize text\n",
    "from transformers import DistilBertTokenizer\n",
    "\n",
    "tokenizer = DistilBertTokenizer.from_pretrained('distilbert-base-uncased')\n",
    "\n",
    "def tokenize(texts, max_length=64):\n",
    "    return tokenizer(\n",
    "        list(texts),\n",
    "        padding='max_length',\n",
    "        truncation=True,\n",
    "        max_length=max_length,\n",
    "        return_tensors='pt'\n",
    "    )\n",
    "\n",
    "train_encodings = tokenize(train_texts)\n",
    "val_encodings = tokenize(val_texts)\n",
    "print(train_encodings.keys())"
   ]
  },
  {
   "cell_type": "code",
   "execution_count": 8,
   "id": "ce0e3c7c",
   "metadata": {},
   "outputs": [
    {
     "name": "stdout",
     "output_type": "stream",
     "text": [
      "160 40\n"
     ]
    }
   ],
   "source": [
    "# datasets objects\n",
    "import torch\n",
    "\n",
    "class BertDataset(torch.utils.data.Dataset):\n",
    "    def __init__(self, encodings, labels):\n",
    "        self.encodings = encodings\n",
    "        self.labels = labels\n",
    "\n",
    "    def __getitem__(self, idx):\n",
    "        item = {key: val[idx] for key, val in self.encodings.items()}\n",
    "        item['labels'] = torch.tensor(self.labels.iloc[idx])\n",
    "        return item\n",
    "\n",
    "    def __len__(self):\n",
    "        return len(self.labels)\n",
    "\n",
    "train_dataset = BertDataset(train_encodings, train_labels)\n",
    "val_dataset = BertDataset(val_encodings, val_labels)\n",
    "print(len(train_dataset), len(val_dataset))"
   ]
  },
  {
   "cell_type": "code",
   "execution_count": 40,
   "id": "6d1f7a92",
   "metadata": {},
   "outputs": [
    {
     "data": {
      "text/html": [
       "\n",
       "    <div>\n",
       "      \n",
       "      <progress value='160' max='160' style='width:300px; height:20px; vertical-align: middle;'></progress>\n",
       "      [160/160 18:26, Epoch 8/8]\n",
       "    </div>\n",
       "    <table border=\"1\" class=\"dataframe\">\n",
       "  <thead>\n",
       " <tr style=\"text-align: left;\">\n",
       "      <th>Step</th>\n",
       "      <th>Training Loss</th>\n",
       "    </tr>\n",
       "  </thead>\n",
       "  <tbody>\n",
       "    <tr>\n",
       "      <td>10</td>\n",
       "      <td>0.497400</td>\n",
       "    </tr>\n",
       "    <tr>\n",
       "      <td>20</td>\n",
       "      <td>0.424700</td>\n",
       "    </tr>\n",
       "    <tr>\n",
       "      <td>30</td>\n",
       "      <td>0.355200</td>\n",
       "    </tr>\n",
       "    <tr>\n",
       "      <td>40</td>\n",
       "      <td>0.275000</td>\n",
       "    </tr>\n",
       "    <tr>\n",
       "      <td>50</td>\n",
       "      <td>0.182800</td>\n",
       "    </tr>\n",
       "    <tr>\n",
       "      <td>60</td>\n",
       "      <td>0.153700</td>\n",
       "    </tr>\n",
       "    <tr>\n",
       "      <td>70</td>\n",
       "      <td>0.116000</td>\n",
       "    </tr>\n",
       "    <tr>\n",
       "      <td>80</td>\n",
       "      <td>0.094700</td>\n",
       "    </tr>\n",
       "    <tr>\n",
       "      <td>90</td>\n",
       "      <td>0.070600</td>\n",
       "    </tr>\n",
       "    <tr>\n",
       "      <td>100</td>\n",
       "      <td>0.061000</td>\n",
       "    </tr>\n",
       "    <tr>\n",
       "      <td>110</td>\n",
       "      <td>0.052000</td>\n",
       "    </tr>\n",
       "    <tr>\n",
       "      <td>120</td>\n",
       "      <td>0.047400</td>\n",
       "    </tr>\n",
       "    <tr>\n",
       "      <td>130</td>\n",
       "      <td>0.041700</td>\n",
       "    </tr>\n",
       "    <tr>\n",
       "      <td>140</td>\n",
       "      <td>0.045500</td>\n",
       "    </tr>\n",
       "    <tr>\n",
       "      <td>150</td>\n",
       "      <td>0.034800</td>\n",
       "    </tr>\n",
       "    <tr>\n",
       "      <td>160</td>\n",
       "      <td>0.042000</td>\n",
       "    </tr>\n",
       "  </tbody>\n",
       "</table><p>"
      ],
      "text/plain": [
       "<IPython.core.display.HTML object>"
      ]
     },
     "metadata": {},
     "output_type": "display_data"
    },
    {
     "data": {
      "text/plain": [
       "TrainOutput(global_step=160, training_loss=0.15591462049633265, metrics={'train_runtime': 1116.3513, 'train_samples_per_second': 1.147, 'train_steps_per_second': 0.143, 'total_flos': 21201587404800.0, 'train_loss': 0.15591462049633265, 'epoch': 8.0})"
      ]
     },
     "execution_count": 40,
     "metadata": {},
     "output_type": "execute_result"
    }
   ],
   "source": [
    "# model train\n",
    "from transformers import DistilBertForSequenceClassification, Trainer, TrainingArguments\n",
    "\n",
    "# model = DistilBertForSequenceClassification.from_pretrained('distilbert-base-uncased', num_labels=num_labels)\n",
    "model = DistilBertForSequenceClassification.from_pretrained('./results_distilbert/checkpoint-300')\n",
    "\n",
    "training_args = TrainingArguments(\n",
    "    output_dir='./results_distilbert_new',\n",
    "    num_train_epochs=8,\n",
    "    per_device_train_batch_size=8,\n",
    "    per_device_eval_batch_size=8,\n",
    "    # evaluation_strategy='epoch',\n",
    "    # save_strategy='epoch',\n",
    "    logging_dir='./logs_distilbert',\n",
    "    logging_steps=10,\n",
    ")\n",
    "\n",
    "trainer = Trainer(\n",
    "    model=model,\n",
    "    args=training_args,\n",
    "    train_dataset=train_dataset,\n",
    "    eval_dataset=val_dataset,\n",
    ")\n",
    "trainer.train()"
   ]
  },
  {
   "cell_type": "code",
   "execution_count": 41,
   "id": "0f412d3b",
   "metadata": {},
   "outputs": [
    {
     "name": "stderr",
     "output_type": "stream",
     "text": [
      "C:\\Users\\Meet\\AppData\\Roaming\\Python\\Python313\\site-packages\\torch\\utils\\data\\dataloader.py:666: UserWarning: 'pin_memory' argument is set as true but no accelerator is found, then device pinned memory won't be used.\n",
      "  warnings.warn(warn_msg)\n"
     ]
    },
    {
     "data": {
      "text/html": [
       "\n",
       "    <div>\n",
       "      \n",
       "      <progress value='5' max='5' style='width:300px; height:20px; vertical-align: middle;'></progress>\n",
       "      [5/5 00:03]\n",
       "    </div>\n",
       "    "
      ],
      "text/plain": [
       "<IPython.core.display.HTML object>"
      ]
     },
     "metadata": {},
     "output_type": "display_data"
    },
    {
     "name": "stdout",
     "output_type": "stream",
     "text": [
      "{'eval_loss': 3.7056403160095215, 'eval_runtime': 6.851, 'eval_samples_per_second': 5.839, 'eval_steps_per_second': 0.73, 'epoch': 8.0}\n"
     ]
    }
   ],
   "source": [
    "# evaluate\n",
    "print(trainer.evaluate())"
   ]
  },
  {
   "cell_type": "code",
   "execution_count": 43,
   "id": "265799c5",
   "metadata": {},
   "outputs": [
    {
     "name": "stdout",
     "output_type": "stream",
     "text": [
      "Predicted topic: robot\n"
     ]
    }
   ],
   "source": [
    "# prediction\n",
    "test_texts = [\"marriag best film dream wish\"]\n",
    "# Tokenize input (make sure to use the same tokenizer and max_length as in training)\n",
    "test_encodings = tokenizer(\n",
    "    test_texts,\n",
    "    padding='max_length',\n",
    "    truncation=True,\n",
    "    max_length=64,\n",
    "    return_tensors='pt'\n",
    ")\n",
    "\n",
    "# Set model to evaluation mode\n",
    "model.eval()\n",
    "test_encodings = tokenize(test_texts)\n",
    "with torch.no_grad():\n",
    "    inputs = {k: v for k, v in test_encodings.items() if k != \"token_type_ids\"}\n",
    "    outputs = model(**inputs)\n",
    "    probs = torch.softmax(outputs.logits, dim=1)\n",
    "    pred_label = probs.argmax(dim=1).item()\n",
    "    pred_topic = le.inverse_transform([pred_label])[0]\n",
    "    print(\"Predicted topic:\", pred_topic)"
   ]
  },
  {
   "cell_type": "code",
   "execution_count": 33,
   "id": "cda2347c",
   "metadata": {},
   "outputs": [
    {
     "name": "stdout",
     "output_type": "stream",
     "text": [
      "Accuracy: 0.0500\n",
      "F1-score (weighted): 0.0048\n",
      "F1-score (macro): 0.0048\n",
      "Precision (weighted): 0.0025\n",
      "Recall (weighted): 0.0500\n",
      "Inference time per sample: 130.95 ms\n",
      "Confusion Matrix:\n",
      "[[0 0 0 3 0 0 0 0 0 0 0 0 0 0 0 0 0 0 0 0]\n",
      " [0 0 0 3 0 0 0 0 0 0 0 0 0 0 0 0 0 0 0 0]\n",
      " [0 0 0 2 0 0 0 0 0 0 0 0 0 0 0 0 0 0 0 0]\n",
      " [0 0 0 2 0 0 0 0 0 0 0 0 0 0 0 0 0 0 0 0]\n",
      " [0 0 0 2 0 0 0 0 0 0 0 0 0 0 0 0 0 0 0 0]\n",
      " [0 0 0 3 0 0 0 0 0 0 0 0 0 0 0 0 0 0 0 0]\n",
      " [0 0 0 3 0 0 0 0 0 0 0 0 0 0 0 0 0 0 0 0]\n",
      " [0 0 0 1 0 0 0 0 0 0 0 0 0 0 0 0 0 0 0 0]\n",
      " [0 0 0 2 0 0 0 0 0 0 0 0 0 0 0 0 0 0 0 0]\n",
      " [0 0 0 2 0 0 0 0 0 0 0 0 0 0 0 0 0 0 0 0]\n",
      " [0 0 0 1 0 0 0 0 0 0 0 0 0 0 0 0 0 0 0 0]\n",
      " [0 0 0 1 0 0 0 0 0 0 0 0 0 0 0 0 0 0 0 0]\n",
      " [0 0 0 1 0 0 0 0 0 0 0 0 0 0 0 0 0 0 0 0]\n",
      " [0 0 0 3 0 0 0 0 0 0 0 0 0 0 0 0 0 0 0 0]\n",
      " [0 0 0 2 0 0 0 0 0 0 0 0 0 0 0 0 0 0 0 0]\n",
      " [0 0 0 1 0 0 0 0 0 0 0 0 0 0 0 0 0 0 0 0]\n",
      " [0 0 0 3 0 0 0 0 0 0 0 0 0 0 0 0 0 0 0 0]\n",
      " [0 0 0 2 0 0 0 0 0 0 0 0 0 0 0 0 0 0 0 0]\n",
      " [0 0 0 2 0 0 0 0 0 0 0 0 0 0 0 0 0 0 0 0]\n",
      " [0 0 0 1 0 0 0 0 0 0 0 0 0 0 0 0 0 0 0 0]]\n",
      "Classification Report:\n",
      "                  precision    recall  f1-score   support\n",
      "\n",
      "        artifici       0.00      0.00      0.00         3\n",
      "      blockchain       0.00      0.00      0.00         3\n",
      "          career       0.00      0.00      0.00         2\n",
      "          climat       0.05      1.00      0.10         2\n",
      "      cybersecur       0.00      0.00      0.00         2\n",
      "            data       0.00      0.00      0.00         3\n",
      "           digit       0.00      0.00      0.00         3\n",
      "            educ       0.00      0.00      0.00         1\n",
      "entrepreneurship       0.00      0.00      0.00         2\n",
      "     environment       0.00      0.00      0.00         2\n",
      "          health       0.00      0.00      0.00         1\n",
      "         histori       0.00      0.00      0.00         1\n",
      "          machin       0.00      0.00      0.00         1\n",
      "          person       0.00      0.00      0.00         3\n",
      "       psycholog       0.00      0.00      0.00         2\n",
      "         quantum       0.00      0.00      0.00         1\n",
      "           robot       0.00      0.00      0.00         3\n",
      "        sociolog       0.00      0.00      0.00         2\n",
      "           space       0.00      0.00      0.00         2\n",
      "             web       0.00      0.00      0.00         1\n",
      "\n",
      "        accuracy                           0.05        40\n",
      "       macro avg       0.00      0.05      0.00        40\n",
      "    weighted avg       0.00      0.05      0.00        40\n",
      "\n"
     ]
    },
    {
     "name": "stderr",
     "output_type": "stream",
     "text": [
      "C:\\Users\\Meet\\AppData\\Roaming\\Python\\Python313\\site-packages\\sklearn\\metrics\\_classification.py:1731: UndefinedMetricWarning: Precision is ill-defined and being set to 0.0 in labels with no predicted samples. Use `zero_division` parameter to control this behavior.\n",
      "  _warn_prf(average, modifier, f\"{metric.capitalize()} is\", result.shape[0])\n",
      "C:\\Users\\Meet\\AppData\\Roaming\\Python\\Python313\\site-packages\\sklearn\\metrics\\_classification.py:1731: UndefinedMetricWarning: Precision is ill-defined and being set to 0.0 in labels with no predicted samples. Use `zero_division` parameter to control this behavior.\n",
      "  _warn_prf(average, modifier, f\"{metric.capitalize()} is\", result.shape[0])\n",
      "C:\\Users\\Meet\\AppData\\Roaming\\Python\\Python313\\site-packages\\sklearn\\metrics\\_classification.py:1731: UndefinedMetricWarning: Precision is ill-defined and being set to 0.0 in labels with no predicted samples. Use `zero_division` parameter to control this behavior.\n",
      "  _warn_prf(average, modifier, f\"{metric.capitalize()} is\", result.shape[0])\n"
     ]
    }
   ],
   "source": [
    "# Tokenize all validation texts\n",
    "val_encodings = tokenizer(\n",
    "    list(val_texts),\n",
    "    padding='max_length',\n",
    "    truncation=True,\n",
    "    max_length=64,\n",
    "    return_tensors='pt'\n",
    ")\n",
    "\n",
    "# Move labels to numpy\n",
    "y_true = np.array(val_labels)\n",
    "\n",
    "# Inference and Timing\n",
    "model.eval()\n",
    "start = time.time()\n",
    "with torch.no_grad():\n",
    "    # For models like DistilBERT, RoBERTa (no token_type_ids), adjust as needed\n",
    "    inputs = {k: v for k, v in val_encodings.items() if k != \"token_type_ids\" or \"token_type_ids\" in model.forward.__code__.co_varnames}\n",
    "    outputs = model(**inputs)\n",
    "    probs = torch.softmax(outputs.logits, dim=1)\n",
    "    y_pred = probs.argmax(dim=1).cpu().numpy()\n",
    "end = time.time()\n",
    "inference_time = (end - start) / len(val_texts)  # per sample\n",
    "\n",
    "# Metrics\n",
    "acc = accuracy_score(y_true, y_pred)\n",
    "f1_weighted = f1_score(y_true, y_pred, average='weighted')\n",
    "f1_macro = f1_score(y_true, y_pred, average='macro')\n",
    "prec = precision_score(y_true, y_pred, average='weighted', zero_division=0)\n",
    "rec = recall_score(y_true, y_pred, average='weighted')\n",
    "cm = confusion_matrix(y_true, y_pred)\n",
    "report = classification_report(y_true, y_pred, target_names=le.classes_)\n",
    "\n",
    "print(f\"Accuracy: {acc:.4f}\")\n",
    "print(f\"F1-score (weighted): {f1_weighted:.4f}\")\n",
    "print(f\"F1-score (macro): {f1_macro:.4f}\")\n",
    "print(f\"Precision (weighted): {prec:.4f}\")\n",
    "print(f\"Recall (weighted): {rec:.4f}\")\n",
    "print(f\"Inference time per sample: {inference_time*1000:.2f} ms\")\n",
    "print(\"Confusion Matrix:\")\n",
    "print(cm)\n",
    "print(\"Classification Report:\")\n",
    "print(report)"
   ]
  },
  {
   "cell_type": "markdown",
   "id": "40586dd1",
   "metadata": {},
   "source": [
    "## Roberta implementation"
   ]
  },
  {
   "cell_type": "code",
   "execution_count": 9,
   "id": "8e585bbf",
   "metadata": {},
   "outputs": [
    {
     "name": "stdout",
     "output_type": "stream",
     "text": [
      "KeysView({'input_ids': tensor([[    0, 28878,   118,  ...,     1,     1,     1],\n",
      "        [    0,   506,  9856,  ...,     1,     1,     1],\n",
      "        [    0,  3654,   636,  ...,     1,     1,     1],\n",
      "        ...,\n",
      "        [    0, 16507, 12442,  ...,     1,     1,     1],\n",
      "        [    0,  6156,  1796,  ...,     1,     1,     1],\n",
      "        [    0, 26960,   813,  ...,     1,     1,     1]]), 'attention_mask': tensor([[1, 1, 1,  ..., 0, 0, 0],\n",
      "        [1, 1, 1,  ..., 0, 0, 0],\n",
      "        [1, 1, 1,  ..., 0, 0, 0],\n",
      "        ...,\n",
      "        [1, 1, 1,  ..., 0, 0, 0],\n",
      "        [1, 1, 1,  ..., 0, 0, 0],\n",
      "        [1, 1, 1,  ..., 0, 0, 0]])})\n"
     ]
    }
   ],
   "source": [
    "# tokenize\n",
    "from transformers import RobertaTokenizer\n",
    "\n",
    "tokenizer = RobertaTokenizer.from_pretrained('roberta-base')\n",
    "\n",
    "def tokenize(texts, max_length=64):\n",
    "    return tokenizer(\n",
    "        list(texts),\n",
    "        padding='max_length',\n",
    "        truncation=True,\n",
    "        max_length=max_length,\n",
    "        return_tensors='pt'\n",
    "    )\n",
    "\n",
    "train_encodings = tokenize(train_texts)\n",
    "val_encodings = tokenize(val_texts)\n",
    "print(train_encodings.keys())"
   ]
  },
  {
   "cell_type": "code",
   "execution_count": 11,
   "id": "b12bbccb",
   "metadata": {},
   "outputs": [
    {
     "data": {
      "text/html": [
       "\n",
       "    <div>\n",
       "      \n",
       "      <progress value='140' max='140' style='width:300px; height:20px; vertical-align: middle;'></progress>\n",
       "      [140/140 17:31, Epoch 7/7]\n",
       "    </div>\n",
       "    <table border=\"1\" class=\"dataframe\">\n",
       "  <thead>\n",
       " <tr style=\"text-align: left;\">\n",
       "      <th>Step</th>\n",
       "      <th>Training Loss</th>\n",
       "    </tr>\n",
       "  </thead>\n",
       "  <tbody>\n",
       "    <tr>\n",
       "      <td>10</td>\n",
       "      <td>3.017200</td>\n",
       "    </tr>\n",
       "    <tr>\n",
       "      <td>20</td>\n",
       "      <td>2.930400</td>\n",
       "    </tr>\n",
       "    <tr>\n",
       "      <td>30</td>\n",
       "      <td>2.909900</td>\n",
       "    </tr>\n",
       "    <tr>\n",
       "      <td>40</td>\n",
       "      <td>2.972200</td>\n",
       "    </tr>\n",
       "    <tr>\n",
       "      <td>50</td>\n",
       "      <td>2.949100</td>\n",
       "    </tr>\n",
       "    <tr>\n",
       "      <td>60</td>\n",
       "      <td>2.961800</td>\n",
       "    </tr>\n",
       "    <tr>\n",
       "      <td>70</td>\n",
       "      <td>2.948000</td>\n",
       "    </tr>\n",
       "    <tr>\n",
       "      <td>80</td>\n",
       "      <td>2.975600</td>\n",
       "    </tr>\n",
       "    <tr>\n",
       "      <td>90</td>\n",
       "      <td>2.968100</td>\n",
       "    </tr>\n",
       "    <tr>\n",
       "      <td>100</td>\n",
       "      <td>2.967600</td>\n",
       "    </tr>\n",
       "    <tr>\n",
       "      <td>110</td>\n",
       "      <td>2.984400</td>\n",
       "    </tr>\n",
       "    <tr>\n",
       "      <td>120</td>\n",
       "      <td>2.984100</td>\n",
       "    </tr>\n",
       "    <tr>\n",
       "      <td>130</td>\n",
       "      <td>2.955100</td>\n",
       "    </tr>\n",
       "    <tr>\n",
       "      <td>140</td>\n",
       "      <td>2.967100</td>\n",
       "    </tr>\n",
       "  </tbody>\n",
       "</table><p>"
      ],
      "text/plain": [
       "<IPython.core.display.HTML object>"
      ]
     },
     "metadata": {},
     "output_type": "display_data"
    },
    {
     "data": {
      "text/plain": [
       "TrainOutput(global_step=140, training_loss=2.963623183114188, metrics={'train_runtime': 1074.9275, 'train_samples_per_second': 1.042, 'train_steps_per_second': 0.13, 'total_flos': 36841500917760.0, 'train_loss': 2.963623183114188, 'epoch': 7.0})"
      ]
     },
     "execution_count": 11,
     "metadata": {},
     "output_type": "execute_result"
    }
   ],
   "source": [
    "# model train\n",
    "from transformers import RobertaForSequenceClassification, Trainer, TrainingArguments\n",
    "\n",
    "# model = RobertaForSequenceClassification.from_pretrained('roberta-base', num_labels=num_labels)\n",
    "model = RobertaForSequenceClassification.from_pretrained('./results_roberta/checkpoint-160')\n",
    "\n",
    "training_args = TrainingArguments(\n",
    "    output_dir='./results_roberta_new',\n",
    "    num_train_epochs=7,\n",
    "    per_device_train_batch_size=8,\n",
    "    per_device_eval_batch_size=8,\n",
    "    # evaluation_strategy='epoch',\n",
    "    # save_strategy='epoch',\n",
    "    logging_dir='./logs_roberta',\n",
    "    logging_steps=10,\n",
    ")\n",
    "\n",
    "trainer = Trainer(\n",
    "    model=model,\n",
    "    args=training_args,\n",
    "    train_dataset=train_dataset,\n",
    "    eval_dataset=val_dataset,\n",
    ")\n",
    "trainer.train()"
   ]
  },
  {
   "cell_type": "code",
   "execution_count": 12,
   "id": "8f452588",
   "metadata": {},
   "outputs": [
    {
     "name": "stdout",
     "output_type": "stream",
     "text": [
      "160 40\n"
     ]
    }
   ],
   "source": [
    "# datasets objects - step 6\n",
    "import torch\n",
    "\n",
    "class BertDataset(torch.utils.data.Dataset):\n",
    "    def __init__(self, encodings, labels):\n",
    "        self.encodings = encodings\n",
    "        self.labels = labels\n",
    "\n",
    "    def __getitem__(self, idx):\n",
    "        item = {key: val[idx] for key, val in self.encodings.items()}\n",
    "        item['labels'] = torch.tensor(self.labels.iloc[idx])\n",
    "        return item\n",
    "\n",
    "    def __len__(self):\n",
    "        return len(self.labels)\n",
    "\n",
    "train_dataset = BertDataset(train_encodings, train_labels)\n",
    "val_dataset = BertDataset(val_encodings, val_labels)\n",
    "print(len(train_dataset), len(val_dataset))"
   ]
  },
  {
   "cell_type": "code",
   "execution_count": 14,
   "id": "c38d74ee",
   "metadata": {},
   "outputs": [
    {
     "name": "stderr",
     "output_type": "stream",
     "text": [
      "Some weights of RobertaForSequenceClassification were not initialized from the model checkpoint at roberta-base and are newly initialized: ['classifier.dense.bias', 'classifier.dense.weight', 'classifier.out_proj.bias', 'classifier.out_proj.weight']\n",
      "You should probably TRAIN this model on a down-stream task to be able to use it for predictions and inference.\n"
     ]
    },
    {
     "data": {
      "text/html": [
       "\n",
       "    <div>\n",
       "      \n",
       "      <progress value='140' max='140' style='width:300px; height:20px; vertical-align: middle;'></progress>\n",
       "      [140/140 15:14, Epoch 7/7]\n",
       "    </div>\n",
       "    <table border=\"1\" class=\"dataframe\">\n",
       "  <thead>\n",
       " <tr style=\"text-align: left;\">\n",
       "      <th>Step</th>\n",
       "      <th>Training Loss</th>\n",
       "    </tr>\n",
       "  </thead>\n",
       "  <tbody>\n",
       "    <tr>\n",
       "      <td>10</td>\n",
       "      <td>3.009500</td>\n",
       "    </tr>\n",
       "    <tr>\n",
       "      <td>20</td>\n",
       "      <td>3.045600</td>\n",
       "    </tr>\n",
       "    <tr>\n",
       "      <td>30</td>\n",
       "      <td>3.000500</td>\n",
       "    </tr>\n",
       "    <tr>\n",
       "      <td>40</td>\n",
       "      <td>2.986700</td>\n",
       "    </tr>\n",
       "    <tr>\n",
       "      <td>50</td>\n",
       "      <td>2.980800</td>\n",
       "    </tr>\n",
       "    <tr>\n",
       "      <td>60</td>\n",
       "      <td>2.995600</td>\n",
       "    </tr>\n",
       "    <tr>\n",
       "      <td>70</td>\n",
       "      <td>2.993000</td>\n",
       "    </tr>\n",
       "    <tr>\n",
       "      <td>80</td>\n",
       "      <td>2.970000</td>\n",
       "    </tr>\n",
       "    <tr>\n",
       "      <td>90</td>\n",
       "      <td>2.966400</td>\n",
       "    </tr>\n",
       "    <tr>\n",
       "      <td>100</td>\n",
       "      <td>2.966200</td>\n",
       "    </tr>\n",
       "    <tr>\n",
       "      <td>110</td>\n",
       "      <td>2.965600</td>\n",
       "    </tr>\n",
       "    <tr>\n",
       "      <td>120</td>\n",
       "      <td>2.992900</td>\n",
       "    </tr>\n",
       "    <tr>\n",
       "      <td>130</td>\n",
       "      <td>2.970500</td>\n",
       "    </tr>\n",
       "    <tr>\n",
       "      <td>140</td>\n",
       "      <td>2.969700</td>\n",
       "    </tr>\n",
       "  </tbody>\n",
       "</table><p>"
      ],
      "text/plain": [
       "<IPython.core.display.HTML object>"
      ]
     },
     "metadata": {},
     "output_type": "display_data"
    },
    {
     "data": {
      "text/plain": [
       "TrainOutput(global_step=140, training_loss=2.986654254368373, metrics={'train_runtime': 927.6258, 'train_samples_per_second': 1.207, 'train_steps_per_second': 0.151, 'total_flos': 36841500917760.0, 'train_loss': 2.986654254368373, 'epoch': 7.0})"
      ]
     },
     "execution_count": 14,
     "metadata": {},
     "output_type": "execute_result"
    }
   ],
   "source": [
    "# train\n",
    "from transformers import RobertaForSequenceClassification, Trainer, TrainingArguments\n",
    "\n",
    "model = RobertaForSequenceClassification.from_pretrained('roberta-base', num_labels=num_labels)\n",
    "\n",
    "training_args = TrainingArguments(\n",
    "    output_dir='./results_roberta_new',\n",
    "    num_train_epochs=7,\n",
    "    per_device_train_batch_size=8,\n",
    "    per_device_eval_batch_size=8,\n",
    "    logging_dir='./logs_roberta_new',\n",
    "    logging_steps=10,\n",
    ")\n",
    "\n",
    "trainer = Trainer(\n",
    "    model=model,\n",
    "    args=training_args,\n",
    "    train_dataset=train_dataset,\n",
    "    eval_dataset=val_dataset,\n",
    ")\n",
    "trainer.train()"
   ]
  },
  {
   "cell_type": "code",
   "execution_count": 15,
   "id": "d08ab005",
   "metadata": {},
   "outputs": [
    {
     "name": "stderr",
     "output_type": "stream",
     "text": [
      "C:\\Users\\Meet\\AppData\\Roaming\\Python\\Python313\\site-packages\\torch\\utils\\data\\dataloader.py:666: UserWarning: 'pin_memory' argument is set as true but no accelerator is found, then device pinned memory won't be used.\n",
      "  warnings.warn(warn_msg)\n"
     ]
    },
    {
     "data": {
      "text/html": [
       "\n",
       "    <div>\n",
       "      \n",
       "      <progress value='5' max='5' style='width:300px; height:20px; vertical-align: middle;'></progress>\n",
       "      [5/5 00:09]\n",
       "    </div>\n",
       "    "
      ],
      "text/plain": [
       "<IPython.core.display.HTML object>"
      ]
     },
     "metadata": {},
     "output_type": "display_data"
    },
    {
     "name": "stdout",
     "output_type": "stream",
     "text": [
      "{'eval_loss': 2.947404146194458, 'eval_runtime': 11.8409, 'eval_samples_per_second': 3.378, 'eval_steps_per_second': 0.422, 'epoch': 7.0}\n"
     ]
    }
   ],
   "source": [
    "# evaluation\n",
    "print(trainer.evaluate())"
   ]
  },
  {
   "cell_type": "code",
   "execution_count": 16,
   "id": "4476b3ac",
   "metadata": {},
   "outputs": [
    {
     "name": "stdout",
     "output_type": "stream",
     "text": [
      "Predicted topic: person\n"
     ]
    }
   ],
   "source": [
    "# prediction\n",
    "from transformers import RobertaTokenizer\n",
    "tokenizer = RobertaTokenizer.from_pretrained('roberta-base')\n",
    "test_texts = [\"marriag best film dream wish\"]\n",
    "# Tokenize input (make sure to use the same tokenizer and max_length as in training)\n",
    "test_encodings = tokenizer(\n",
    "    test_texts,\n",
    "    padding='max_length',\n",
    "    truncation=True,\n",
    "    max_length=64,\n",
    "    return_tensors='pt'\n",
    ")\n",
    "\n",
    "# Set model to evaluation mode\n",
    "model.eval()\n",
    "test_encodings = tokenize(test_texts)\n",
    "with torch.no_grad():\n",
    "    outputs = model(**{k: v for k, v in test_encodings.items()})\n",
    "    probs = torch.softmax(outputs.logits, dim=1)\n",
    "    pred_label = probs.argmax(dim=1).item()\n",
    "    pred_topic = le.inverse_transform([pred_label])[0]\n",
    "    print(\"Predicted topic:\", pred_topic)"
   ]
  },
  {
   "cell_type": "code",
   "execution_count": 17,
   "id": "5dead019",
   "metadata": {},
   "outputs": [
    {
     "name": "stderr",
     "output_type": "stream",
     "text": [
      "Some weights of RobertaForSequenceClassification were not initialized from the model checkpoint at roberta-base and are newly initialized: ['classifier.dense.bias', 'classifier.dense.weight', 'classifier.out_proj.bias', 'classifier.out_proj.weight']\n",
      "You should probably TRAIN this model on a down-stream task to be able to use it for predictions and inference.\n"
     ]
    },
    {
     "name": "stdout",
     "output_type": "stream",
     "text": [
      "Predicted topic: histori\n"
     ]
    }
   ],
   "source": [
    "# prediction (with model loading)\n",
    "import torch\n",
    "from transformers import RobertaTokenizer, RobertaForSequenceClassification\n",
    "\n",
    "tokenizer = RobertaTokenizer.from_pretrained('roberta-base')\n",
    "num_labels = len(le.classes_)\n",
    "model = RobertaForSequenceClassification.from_pretrained('roberta-base', num_labels=num_labels)\n",
    "# If you have a checkpoint, use:\n",
    "# model = RobertaForSequenceClassification.from_pretrained('./results_roberta/checkpoint-xxx')\n",
    "# ...rest of your code...\n",
    "\n",
    "test_texts = [\"marriag best film dream wish\"]\n",
    "def tokenize(texts, max_length=64):\n",
    "    return tokenizer(\n",
    "        list(texts),\n",
    "        padding='max_length',\n",
    "        truncation=True,\n",
    "        max_length=max_length,\n",
    "        return_tensors='pt'\n",
    "    )\n",
    "test_encodings = tokenize(test_texts)\n",
    "model.eval()\n",
    "with torch.no_grad():\n",
    "    outputs = model(**{k: v for k, v in test_encodings.items()})\n",
    "    probs = torch.softmax(outputs.logits, dim=1)\n",
    "    pred_label = probs.argmax(dim=1).item()\n",
    "    pred_topic = le.inverse_transform([pred_label])[0]\n",
    "    print(\"Predicted topic:\", pred_topic)"
   ]
  },
  {
   "cell_type": "code",
   "execution_count": 34,
   "id": "eeb225d6",
   "metadata": {},
   "outputs": [
    {
     "name": "stdout",
     "output_type": "stream",
     "text": [
      "Accuracy: 0.0500\n",
      "F1-score (weighted): 0.0048\n",
      "F1-score (macro): 0.0048\n",
      "Precision (weighted): 0.0025\n",
      "Recall (weighted): 0.0500\n",
      "Inference time per sample: 118.46 ms\n",
      "Confusion Matrix:\n",
      "[[0 0 0 3 0 0 0 0 0 0 0 0 0 0 0 0 0 0 0 0]\n",
      " [0 0 0 3 0 0 0 0 0 0 0 0 0 0 0 0 0 0 0 0]\n",
      " [0 0 0 2 0 0 0 0 0 0 0 0 0 0 0 0 0 0 0 0]\n",
      " [0 0 0 2 0 0 0 0 0 0 0 0 0 0 0 0 0 0 0 0]\n",
      " [0 0 0 2 0 0 0 0 0 0 0 0 0 0 0 0 0 0 0 0]\n",
      " [0 0 0 3 0 0 0 0 0 0 0 0 0 0 0 0 0 0 0 0]\n",
      " [0 0 0 3 0 0 0 0 0 0 0 0 0 0 0 0 0 0 0 0]\n",
      " [0 0 0 1 0 0 0 0 0 0 0 0 0 0 0 0 0 0 0 0]\n",
      " [0 0 0 2 0 0 0 0 0 0 0 0 0 0 0 0 0 0 0 0]\n",
      " [0 0 0 2 0 0 0 0 0 0 0 0 0 0 0 0 0 0 0 0]\n",
      " [0 0 0 1 0 0 0 0 0 0 0 0 0 0 0 0 0 0 0 0]\n",
      " [0 0 0 1 0 0 0 0 0 0 0 0 0 0 0 0 0 0 0 0]\n",
      " [0 0 0 1 0 0 0 0 0 0 0 0 0 0 0 0 0 0 0 0]\n",
      " [0 0 0 3 0 0 0 0 0 0 0 0 0 0 0 0 0 0 0 0]\n",
      " [0 0 0 2 0 0 0 0 0 0 0 0 0 0 0 0 0 0 0 0]\n",
      " [0 0 0 1 0 0 0 0 0 0 0 0 0 0 0 0 0 0 0 0]\n",
      " [0 0 0 3 0 0 0 0 0 0 0 0 0 0 0 0 0 0 0 0]\n",
      " [0 0 0 2 0 0 0 0 0 0 0 0 0 0 0 0 0 0 0 0]\n",
      " [0 0 0 2 0 0 0 0 0 0 0 0 0 0 0 0 0 0 0 0]\n",
      " [0 0 0 1 0 0 0 0 0 0 0 0 0 0 0 0 0 0 0 0]]\n",
      "Classification Report:\n",
      "                  precision    recall  f1-score   support\n",
      "\n",
      "        artifici       0.00      0.00      0.00         3\n",
      "      blockchain       0.00      0.00      0.00         3\n",
      "          career       0.00      0.00      0.00         2\n",
      "          climat       0.05      1.00      0.10         2\n",
      "      cybersecur       0.00      0.00      0.00         2\n",
      "            data       0.00      0.00      0.00         3\n",
      "           digit       0.00      0.00      0.00         3\n",
      "            educ       0.00      0.00      0.00         1\n",
      "entrepreneurship       0.00      0.00      0.00         2\n",
      "     environment       0.00      0.00      0.00         2\n",
      "          health       0.00      0.00      0.00         1\n",
      "         histori       0.00      0.00      0.00         1\n",
      "          machin       0.00      0.00      0.00         1\n",
      "          person       0.00      0.00      0.00         3\n",
      "       psycholog       0.00      0.00      0.00         2\n",
      "         quantum       0.00      0.00      0.00         1\n",
      "           robot       0.00      0.00      0.00         3\n",
      "        sociolog       0.00      0.00      0.00         2\n",
      "           space       0.00      0.00      0.00         2\n",
      "             web       0.00      0.00      0.00         1\n",
      "\n",
      "        accuracy                           0.05        40\n",
      "       macro avg       0.00      0.05      0.00        40\n",
      "    weighted avg       0.00      0.05      0.00        40\n",
      "\n"
     ]
    },
    {
     "name": "stderr",
     "output_type": "stream",
     "text": [
      "C:\\Users\\Meet\\AppData\\Roaming\\Python\\Python313\\site-packages\\sklearn\\metrics\\_classification.py:1731: UndefinedMetricWarning: Precision is ill-defined and being set to 0.0 in labels with no predicted samples. Use `zero_division` parameter to control this behavior.\n",
      "  _warn_prf(average, modifier, f\"{metric.capitalize()} is\", result.shape[0])\n",
      "C:\\Users\\Meet\\AppData\\Roaming\\Python\\Python313\\site-packages\\sklearn\\metrics\\_classification.py:1731: UndefinedMetricWarning: Precision is ill-defined and being set to 0.0 in labels with no predicted samples. Use `zero_division` parameter to control this behavior.\n",
      "  _warn_prf(average, modifier, f\"{metric.capitalize()} is\", result.shape[0])\n",
      "C:\\Users\\Meet\\AppData\\Roaming\\Python\\Python313\\site-packages\\sklearn\\metrics\\_classification.py:1731: UndefinedMetricWarning: Precision is ill-defined and being set to 0.0 in labels with no predicted samples. Use `zero_division` parameter to control this behavior.\n",
      "  _warn_prf(average, modifier, f\"{metric.capitalize()} is\", result.shape[0])\n"
     ]
    }
   ],
   "source": [
    "# Tokenize all validation texts\n",
    "val_encodings = tokenizer(\n",
    "    list(val_texts),\n",
    "    padding='max_length',\n",
    "    truncation=True,\n",
    "    max_length=64,\n",
    "    return_tensors='pt'\n",
    ")\n",
    "\n",
    "# Move labels to numpy\n",
    "y_true = np.array(val_labels)\n",
    "\n",
    "# Inference and Timing\n",
    "model.eval()\n",
    "start = time.time()\n",
    "with torch.no_grad():\n",
    "    # For models like DistilBERT, RoBERTa (no token_type_ids), adjust as needed\n",
    "    inputs = {k: v for k, v in val_encodings.items() if k != \"token_type_ids\" or \"token_type_ids\" in model.forward.__code__.co_varnames}\n",
    "    outputs = model(**inputs)\n",
    "    probs = torch.softmax(outputs.logits, dim=1)\n",
    "    y_pred = probs.argmax(dim=1).cpu().numpy()\n",
    "end = time.time()\n",
    "inference_time = (end - start) / len(val_texts)  # per sample\n",
    "\n",
    "# Metrics\n",
    "acc = accuracy_score(y_true, y_pred)\n",
    "f1_weighted = f1_score(y_true, y_pred, average='weighted')\n",
    "f1_macro = f1_score(y_true, y_pred, average='macro')\n",
    "prec = precision_score(y_true, y_pred, average='weighted', zero_division=0)\n",
    "rec = recall_score(y_true, y_pred, average='weighted')\n",
    "cm = confusion_matrix(y_true, y_pred)\n",
    "report = classification_report(y_true, y_pred, target_names=le.classes_)\n",
    "\n",
    "print(f\"Accuracy: {acc:.4f}\")\n",
    "print(f\"F1-score (weighted): {f1_weighted:.4f}\")\n",
    "print(f\"F1-score (macro): {f1_macro:.4f}\")\n",
    "print(f\"Precision (weighted): {prec:.4f}\")\n",
    "print(f\"Recall (weighted): {rec:.4f}\")\n",
    "print(f\"Inference time per sample: {inference_time*1000:.2f} ms\")\n",
    "print(\"Confusion Matrix:\")\n",
    "print(cm)\n",
    "print(\"Classification Report:\")\n",
    "print(report)"
   ]
  },
  {
   "cell_type": "markdown",
   "id": "75d12c1e",
   "metadata": {},
   "source": [
    "## Albert"
   ]
  },
  {
   "cell_type": "code",
   "execution_count": 18,
   "id": "676644fb",
   "metadata": {},
   "outputs": [
    {
     "name": "stdout",
     "output_type": "stream",
     "text": [
      "KeysView({'input_ids': tensor([[   2, 7821, 1388,  ...,    0,    0,    0],\n",
      "        [   2, 1904,  585,  ...,    0,    0,    0],\n",
      "        [   2,   52,  596,  ...,    0,    0,    0],\n",
      "        ...,\n",
      "        [   2,  650, 1656,  ...,    0,    0,    0],\n",
      "        [   2,  426, 4234,  ...,    0,    0,    0],\n",
      "        [   2, 1865, 1138,  ...,    0,    0,    0]]), 'token_type_ids': tensor([[0, 0, 0,  ..., 0, 0, 0],\n",
      "        [0, 0, 0,  ..., 0, 0, 0],\n",
      "        [0, 0, 0,  ..., 0, 0, 0],\n",
      "        ...,\n",
      "        [0, 0, 0,  ..., 0, 0, 0],\n",
      "        [0, 0, 0,  ..., 0, 0, 0],\n",
      "        [0, 0, 0,  ..., 0, 0, 0]]), 'attention_mask': tensor([[1, 1, 1,  ..., 0, 0, 0],\n",
      "        [1, 1, 1,  ..., 0, 0, 0],\n",
      "        [1, 1, 1,  ..., 0, 0, 0],\n",
      "        ...,\n",
      "        [1, 1, 1,  ..., 0, 0, 0],\n",
      "        [1, 1, 1,  ..., 0, 0, 0],\n",
      "        [1, 1, 1,  ..., 0, 0, 0]])})\n"
     ]
    }
   ],
   "source": [
    "# tokenize\n",
    "from transformers import AlbertTokenizer\n",
    "\n",
    "tokenizer = AlbertTokenizer.from_pretrained('albert-base-v2')\n",
    "\n",
    "def tokenize(texts, max_length=64):\n",
    "    return tokenizer(\n",
    "        list(texts),\n",
    "        padding='max_length',\n",
    "        truncation=True,\n",
    "        max_length=max_length,\n",
    "        return_tensors='pt'\n",
    "    )\n",
    "\n",
    "train_encodings = tokenize(train_texts)\n",
    "val_encodings = tokenize(val_texts)\n",
    "print(train_encodings.keys())"
   ]
  },
  {
   "cell_type": "code",
   "execution_count": 19,
   "id": "78f7434a",
   "metadata": {},
   "outputs": [
    {
     "name": "stdout",
     "output_type": "stream",
     "text": [
      "160 40\n"
     ]
    }
   ],
   "source": [
    "# datasets objects\n",
    "import torch\n",
    "\n",
    "class BertDataset(torch.utils.data.Dataset):\n",
    "    def __init__(self, encodings, labels):\n",
    "        self.encodings = encodings\n",
    "        self.labels = labels\n",
    "\n",
    "    def __getitem__(self, idx):\n",
    "        item = {key: val[idx] for key, val in self.encodings.items()}\n",
    "        item['labels'] = torch.tensor(self.labels.iloc[idx])\n",
    "        return item\n",
    "\n",
    "    def __len__(self):\n",
    "        return len(self.labels)\n",
    "\n",
    "train_dataset = BertDataset(train_encodings, train_labels)\n",
    "val_dataset = BertDataset(val_encodings, val_labels)\n",
    "print(len(train_dataset), len(val_dataset))"
   ]
  },
  {
   "cell_type": "code",
   "execution_count": 20,
   "id": "9be2c3ea",
   "metadata": {},
   "outputs": [
    {
     "name": "stderr",
     "output_type": "stream",
     "text": [
      "C:\\Users\\Meet\\AppData\\Roaming\\Python\\Python313\\site-packages\\torch\\utils\\data\\dataloader.py:666: UserWarning: 'pin_memory' argument is set as true but no accelerator is found, then device pinned memory won't be used.\n",
      "  warnings.warn(warn_msg)\n"
     ]
    },
    {
     "data": {
      "text/html": [
       "\n",
       "    <div>\n",
       "      \n",
       "      <progress value='120' max='120' style='width:300px; height:20px; vertical-align: middle;'></progress>\n",
       "      [120/120 13:44, Epoch 6/6]\n",
       "    </div>\n",
       "    <table border=\"1\" class=\"dataframe\">\n",
       "  <thead>\n",
       " <tr style=\"text-align: left;\">\n",
       "      <th>Step</th>\n",
       "      <th>Training Loss</th>\n",
       "    </tr>\n",
       "  </thead>\n",
       "  <tbody>\n",
       "    <tr>\n",
       "      <td>10</td>\n",
       "      <td>3.045600</td>\n",
       "    </tr>\n",
       "    <tr>\n",
       "      <td>20</td>\n",
       "      <td>3.065100</td>\n",
       "    </tr>\n",
       "    <tr>\n",
       "      <td>30</td>\n",
       "      <td>3.020800</td>\n",
       "    </tr>\n",
       "    <tr>\n",
       "      <td>40</td>\n",
       "      <td>3.065300</td>\n",
       "    </tr>\n",
       "    <tr>\n",
       "      <td>50</td>\n",
       "      <td>2.988800</td>\n",
       "    </tr>\n",
       "    <tr>\n",
       "      <td>60</td>\n",
       "      <td>3.094100</td>\n",
       "    </tr>\n",
       "    <tr>\n",
       "      <td>70</td>\n",
       "      <td>3.003000</td>\n",
       "    </tr>\n",
       "    <tr>\n",
       "      <td>80</td>\n",
       "      <td>3.021700</td>\n",
       "    </tr>\n",
       "    <tr>\n",
       "      <td>90</td>\n",
       "      <td>2.959800</td>\n",
       "    </tr>\n",
       "    <tr>\n",
       "      <td>100</td>\n",
       "      <td>2.995900</td>\n",
       "    </tr>\n",
       "    <tr>\n",
       "      <td>110</td>\n",
       "      <td>2.957900</td>\n",
       "    </tr>\n",
       "    <tr>\n",
       "      <td>120</td>\n",
       "      <td>2.988400</td>\n",
       "    </tr>\n",
       "  </tbody>\n",
       "</table><p>"
      ],
      "text/plain": [
       "<IPython.core.display.HTML object>"
      ]
     },
     "metadata": {},
     "output_type": "display_data"
    },
    {
     "data": {
      "text/plain": [
       "TrainOutput(global_step=120, training_loss=3.017188231150309, metrics={'train_runtime': 834.4185, 'train_samples_per_second': 1.151, 'train_steps_per_second': 0.144, 'total_flos': 2872874926080.0, 'train_loss': 3.017188231150309, 'epoch': 6.0})"
      ]
     },
     "execution_count": 20,
     "metadata": {},
     "output_type": "execute_result"
    }
   ],
   "source": [
    "# model train\n",
    "from transformers import AlbertForSequenceClassification, Trainer, TrainingArguments\n",
    "\n",
    "# model = AlbertForSequenceClassification.from_pretrained('albert-base-v2', num_labels=num_labels)\n",
    "model = AlbertForSequenceClassification.from_pretrained('./results_albert/checkpoint-120')\n",
    "\n",
    "training_args = TrainingArguments(\n",
    "    output_dir='./results_albert_new',\n",
    "    num_train_epochs=6,\n",
    "    per_device_train_batch_size=8,\n",
    "    per_device_eval_batch_size=8,\n",
    "    logging_dir='./logs_albert',\n",
    "    logging_steps=10,\n",
    ")\n",
    "\n",
    "trainer = Trainer(\n",
    "    model=model,\n",
    "    args=training_args,\n",
    "    train_dataset=train_dataset,\n",
    "    eval_dataset=val_dataset,\n",
    ")\n",
    "trainer.train()"
   ]
  },
  {
   "cell_type": "code",
   "execution_count": 21,
   "id": "549aaafe",
   "metadata": {},
   "outputs": [
    {
     "name": "stderr",
     "output_type": "stream",
     "text": [
      "C:\\Users\\Meet\\AppData\\Roaming\\Python\\Python313\\site-packages\\torch\\utils\\data\\dataloader.py:666: UserWarning: 'pin_memory' argument is set as true but no accelerator is found, then device pinned memory won't be used.\n",
      "  warnings.warn(warn_msg)\n"
     ]
    },
    {
     "data": {
      "text/html": [
       "\n",
       "    <div>\n",
       "      \n",
       "      <progress value='5' max='5' style='width:300px; height:20px; vertical-align: middle;'></progress>\n",
       "      [5/5 00:09]\n",
       "    </div>\n",
       "    "
      ],
      "text/plain": [
       "<IPython.core.display.HTML object>"
      ]
     },
     "metadata": {},
     "output_type": "display_data"
    },
    {
     "name": "stdout",
     "output_type": "stream",
     "text": [
      "{'eval_loss': 2.9417757987976074, 'eval_runtime': 12.7764, 'eval_samples_per_second': 3.131, 'eval_steps_per_second': 0.391, 'epoch': 6.0}\n"
     ]
    }
   ],
   "source": [
    "# evaluate\n",
    "print(trainer.evaluate())"
   ]
  },
  {
   "cell_type": "code",
   "execution_count": 35,
   "id": "8532bc2b",
   "metadata": {},
   "outputs": [
    {
     "name": "stderr",
     "output_type": "stream",
     "text": [
      "Some weights of AlbertForSequenceClassification were not initialized from the model checkpoint at albert-base-v2 and are newly initialized: ['classifier.bias', 'classifier.weight']\n",
      "You should probably TRAIN this model on a down-stream task to be able to use it for predictions and inference.\n"
     ]
    },
    {
     "name": "stdout",
     "output_type": "stream",
     "text": [
      "Predicted topic: career\n"
     ]
    }
   ],
   "source": [
    "# prediction\n",
    "from transformers import AlbertTokenizer, AlbertForSequenceClassification\n",
    "import torch\n",
    "\n",
    "tokenizer = AlbertTokenizer.from_pretrained('albert-base-v2')\n",
    "model = AlbertForSequenceClassification.from_pretrained('albert-base-v2', num_labels=num_labels)\n",
    "model.eval()\n",
    "\n",
    "test_texts = [\"organ choos concern eye stage three point despit senior serv citizen idea u\"]\n",
    "test_encodings = tokenizer(\n",
    "    test_texts,\n",
    "    padding='max_length',\n",
    "    truncation=True,\n",
    "    max_length=64,\n",
    "    return_tensors='pt'\n",
    ")\n",
    "with torch.no_grad():\n",
    "    outputs = model(**{k: v for k, v in test_encodings.items()})\n",
    "    probs = torch.softmax(outputs.logits, dim=1)\n",
    "    pred_label = probs.argmax(dim=1).item()\n",
    "    pred_topic = le.inverse_transform([pred_label])[0]\n",
    "    print(\"Predicted topic:\", pred_topic)"
   ]
  },
  {
   "cell_type": "code",
   "execution_count": 36,
   "id": "936f4cbe",
   "metadata": {},
   "outputs": [
    {
     "name": "stdout",
     "output_type": "stream",
     "text": [
      "Accuracy: 0.0500\n",
      "F1-score (weighted): 0.0049\n",
      "F1-score (macro): 0.0049\n",
      "Precision (weighted): 0.0026\n",
      "Recall (weighted): 0.0500\n",
      "Inference time per sample: 234.64 ms\n",
      "Confusion Matrix:\n",
      "[[0 0 3 0 0 0 0 0 0 0 0 0 0 0 0 0 0 0 0 0]\n",
      " [0 0 3 0 0 0 0 0 0 0 0 0 0 0 0 0 0 0 0 0]\n",
      " [0 0 2 0 0 0 0 0 0 0 0 0 0 0 0 0 0 0 0 0]\n",
      " [0 0 2 0 0 0 0 0 0 0 0 0 0 0 0 0 0 0 0 0]\n",
      " [0 0 2 0 0 0 0 0 0 0 0 0 0 0 0 0 0 0 0 0]\n",
      " [0 0 3 0 0 0 0 0 0 0 0 0 0 0 0 0 0 0 0 0]\n",
      " [0 0 3 0 0 0 0 0 0 0 0 0 0 0 0 0 0 0 0 0]\n",
      " [0 0 1 0 0 0 0 0 0 0 0 0 0 0 0 0 0 0 0 0]\n",
      " [0 0 2 0 0 0 0 0 0 0 0 0 0 0 0 0 0 0 0 0]\n",
      " [0 0 2 0 0 0 0 0 0 0 0 0 0 0 0 0 0 0 0 0]\n",
      " [0 0 1 0 0 0 0 0 0 0 0 0 0 0 0 0 0 0 0 0]\n",
      " [0 0 1 0 0 0 0 0 0 0 0 0 0 0 0 0 0 0 0 0]\n",
      " [0 0 0 0 0 0 0 0 0 0 0 1 0 0 0 0 0 0 0 0]\n",
      " [0 0 3 0 0 0 0 0 0 0 0 0 0 0 0 0 0 0 0 0]\n",
      " [0 0 2 0 0 0 0 0 0 0 0 0 0 0 0 0 0 0 0 0]\n",
      " [0 0 1 0 0 0 0 0 0 0 0 0 0 0 0 0 0 0 0 0]\n",
      " [0 0 3 0 0 0 0 0 0 0 0 0 0 0 0 0 0 0 0 0]\n",
      " [0 0 2 0 0 0 0 0 0 0 0 0 0 0 0 0 0 0 0 0]\n",
      " [0 0 2 0 0 0 0 0 0 0 0 0 0 0 0 0 0 0 0 0]\n",
      " [0 0 1 0 0 0 0 0 0 0 0 0 0 0 0 0 0 0 0 0]]\n",
      "Classification Report:\n",
      "                  precision    recall  f1-score   support\n",
      "\n",
      "        artifici       0.00      0.00      0.00         3\n",
      "      blockchain       0.00      0.00      0.00         3\n",
      "          career       0.05      1.00      0.10         2\n",
      "          climat       0.00      0.00      0.00         2\n",
      "      cybersecur       0.00      0.00      0.00         2\n",
      "            data       0.00      0.00      0.00         3\n",
      "           digit       0.00      0.00      0.00         3\n",
      "            educ       0.00      0.00      0.00         1\n",
      "entrepreneurship       0.00      0.00      0.00         2\n",
      "     environment       0.00      0.00      0.00         2\n",
      "          health       0.00      0.00      0.00         1\n",
      "         histori       0.00      0.00      0.00         1\n",
      "          machin       0.00      0.00      0.00         1\n",
      "          person       0.00      0.00      0.00         3\n",
      "       psycholog       0.00      0.00      0.00         2\n",
      "         quantum       0.00      0.00      0.00         1\n",
      "           robot       0.00      0.00      0.00         3\n",
      "        sociolog       0.00      0.00      0.00         2\n",
      "           space       0.00      0.00      0.00         2\n",
      "             web       0.00      0.00      0.00         1\n",
      "\n",
      "        accuracy                           0.05        40\n",
      "       macro avg       0.00      0.05      0.00        40\n",
      "    weighted avg       0.00      0.05      0.00        40\n",
      "\n"
     ]
    },
    {
     "name": "stderr",
     "output_type": "stream",
     "text": [
      "C:\\Users\\Meet\\AppData\\Roaming\\Python\\Python313\\site-packages\\sklearn\\metrics\\_classification.py:1731: UndefinedMetricWarning: Precision is ill-defined and being set to 0.0 in labels with no predicted samples. Use `zero_division` parameter to control this behavior.\n",
      "  _warn_prf(average, modifier, f\"{metric.capitalize()} is\", result.shape[0])\n",
      "C:\\Users\\Meet\\AppData\\Roaming\\Python\\Python313\\site-packages\\sklearn\\metrics\\_classification.py:1731: UndefinedMetricWarning: Precision is ill-defined and being set to 0.0 in labels with no predicted samples. Use `zero_division` parameter to control this behavior.\n",
      "  _warn_prf(average, modifier, f\"{metric.capitalize()} is\", result.shape[0])\n",
      "C:\\Users\\Meet\\AppData\\Roaming\\Python\\Python313\\site-packages\\sklearn\\metrics\\_classification.py:1731: UndefinedMetricWarning: Precision is ill-defined and being set to 0.0 in labels with no predicted samples. Use `zero_division` parameter to control this behavior.\n",
      "  _warn_prf(average, modifier, f\"{metric.capitalize()} is\", result.shape[0])\n"
     ]
    }
   ],
   "source": [
    "# Tokenize all validation texts\n",
    "val_encodings = tokenizer(\n",
    "    list(val_texts),\n",
    "    padding='max_length',\n",
    "    truncation=True,\n",
    "    max_length=64,\n",
    "    return_tensors='pt'\n",
    ")\n",
    "\n",
    "# Move labels to numpy\n",
    "y_true = np.array(val_labels)\n",
    "\n",
    "# Inference and Timing\n",
    "model.eval()\n",
    "start = time.time()\n",
    "with torch.no_grad():\n",
    "    # For models like DistilBERT, RoBERTa (no token_type_ids), adjust as needed\n",
    "    inputs = {k: v for k, v in val_encodings.items() if k != \"token_type_ids\" or \"token_type_ids\" in model.forward.__code__.co_varnames}\n",
    "    outputs = model(**inputs)\n",
    "    probs = torch.softmax(outputs.logits, dim=1)\n",
    "    y_pred = probs.argmax(dim=1).cpu().numpy()\n",
    "end = time.time()\n",
    "inference_time = (end - start) / len(val_texts)  # per sample\n",
    "\n",
    "# Metrics\n",
    "acc = accuracy_score(y_true, y_pred)\n",
    "f1_weighted = f1_score(y_true, y_pred, average='weighted')\n",
    "f1_macro = f1_score(y_true, y_pred, average='macro')\n",
    "prec = precision_score(y_true, y_pred, average='weighted', zero_division=0)\n",
    "rec = recall_score(y_true, y_pred, average='weighted')\n",
    "cm = confusion_matrix(y_true, y_pred)\n",
    "report = classification_report(y_true, y_pred, target_names=le.classes_)\n",
    "\n",
    "print(f\"Accuracy: {acc:.4f}\")\n",
    "print(f\"F1-score (weighted): {f1_weighted:.4f}\")\n",
    "print(f\"F1-score (macro): {f1_macro:.4f}\")\n",
    "print(f\"Precision (weighted): {prec:.4f}\")\n",
    "print(f\"Recall (weighted): {rec:.4f}\")\n",
    "print(f\"Inference time per sample: {inference_time*1000:.2f} ms\")\n",
    "print(\"Confusion Matrix:\")\n",
    "print(cm)\n",
    "print(\"Classification Report:\")\n",
    "print(report)"
   ]
  },
  {
   "cell_type": "markdown",
   "id": "c50296b0",
   "metadata": {},
   "source": [
    "## MobileBert"
   ]
  },
  {
   "cell_type": "code",
   "execution_count": 23,
   "id": "2f90a29d",
   "metadata": {},
   "outputs": [
    {
     "name": "stdout",
     "output_type": "stream",
     "text": [
      "KeysView({'input_ids': tensor([[  101, 17935,  3775,  ...,     0,     0,     0],\n",
      "        [  101,  3813,  2529,  ...,     0,     0,     0],\n",
      "        [  101,  2025,  2594,  ...,     0,     0,     0],\n",
      "        ...,\n",
      "        [  101,  2530,  3519,  ...,     0,     0,     0],\n",
      "        [  101,  2345,  5770,  ...,     0,     0,     0],\n",
      "        [  101,  3693,  3095,  ...,     0,     0,     0]]), 'token_type_ids': tensor([[0, 0, 0,  ..., 0, 0, 0],\n",
      "        [0, 0, 0,  ..., 0, 0, 0],\n",
      "        [0, 0, 0,  ..., 0, 0, 0],\n",
      "        ...,\n",
      "        [0, 0, 0,  ..., 0, 0, 0],\n",
      "        [0, 0, 0,  ..., 0, 0, 0],\n",
      "        [0, 0, 0,  ..., 0, 0, 0]]), 'attention_mask': tensor([[1, 1, 1,  ..., 0, 0, 0],\n",
      "        [1, 1, 1,  ..., 0, 0, 0],\n",
      "        [1, 1, 1,  ..., 0, 0, 0],\n",
      "        ...,\n",
      "        [1, 1, 1,  ..., 0, 0, 0],\n",
      "        [1, 1, 1,  ..., 0, 0, 0],\n",
      "        [1, 1, 1,  ..., 0, 0, 0]])})\n"
     ]
    }
   ],
   "source": [
    "# tokenize\n",
    "from transformers import MobileBertTokenizer\n",
    "\n",
    "tokenizer = MobileBertTokenizer.from_pretrained('google/mobilebert-uncased')\n",
    "\n",
    "def tokenize(texts, max_length=64):\n",
    "    return tokenizer(\n",
    "        list(texts),\n",
    "        padding='max_length',\n",
    "        truncation=True,\n",
    "        max_length=max_length,\n",
    "        return_tensors='pt'\n",
    "    )\n",
    "\n",
    "train_encodings = tokenize(train_texts)\n",
    "val_encodings = tokenize(val_texts)\n",
    "print(train_encodings.keys())"
   ]
  },
  {
   "cell_type": "code",
   "execution_count": 24,
   "id": "40731b63",
   "metadata": {},
   "outputs": [
    {
     "name": "stdout",
     "output_type": "stream",
     "text": [
      "160 40\n"
     ]
    }
   ],
   "source": [
    "# datasets objects\n",
    "import torch\n",
    "\n",
    "class BertDataset(torch.utils.data.Dataset):\n",
    "    def __init__(self, encodings, labels):\n",
    "        self.encodings = encodings\n",
    "        self.labels = labels\n",
    "\n",
    "    def __getitem__(self, idx):\n",
    "        item = {key: val[idx] for key, val in self.encodings.items()}\n",
    "        item['labels'] = torch.tensor(self.labels.iloc[idx])\n",
    "        return item\n",
    "\n",
    "    def __len__(self):\n",
    "        return len(self.labels)\n",
    "\n",
    "train_dataset = BertDataset(train_encodings, train_labels)\n",
    "val_dataset = BertDataset(val_encodings, val_labels)\n",
    "print(len(train_dataset), len(val_dataset))"
   ]
  },
  {
   "cell_type": "code",
   "execution_count": 25,
   "id": "521869ab",
   "metadata": {},
   "outputs": [
    {
     "name": "stderr",
     "output_type": "stream",
     "text": [
      "C:\\Users\\Meet\\AppData\\Roaming\\Python\\Python313\\site-packages\\torch\\utils\\data\\dataloader.py:666: UserWarning: 'pin_memory' argument is set as true but no accelerator is found, then device pinned memory won't be used.\n",
      "  warnings.warn(warn_msg)\n"
     ]
    },
    {
     "data": {
      "text/html": [
       "\n",
       "    <div>\n",
       "      \n",
       "      <progress value='120' max='120' style='width:300px; height:20px; vertical-align: middle;'></progress>\n",
       "      [120/120 04:13, Epoch 6/6]\n",
       "    </div>\n",
       "    <table border=\"1\" class=\"dataframe\">\n",
       "  <thead>\n",
       " <tr style=\"text-align: left;\">\n",
       "      <th>Step</th>\n",
       "      <th>Training Loss</th>\n",
       "    </tr>\n",
       "  </thead>\n",
       "  <tbody>\n",
       "    <tr>\n",
       "      <td>10</td>\n",
       "      <td>2.619400</td>\n",
       "    </tr>\n",
       "    <tr>\n",
       "      <td>20</td>\n",
       "      <td>2.699000</td>\n",
       "    </tr>\n",
       "    <tr>\n",
       "      <td>30</td>\n",
       "      <td>2.272300</td>\n",
       "    </tr>\n",
       "    <tr>\n",
       "      <td>40</td>\n",
       "      <td>1.971300</td>\n",
       "    </tr>\n",
       "    <tr>\n",
       "      <td>50</td>\n",
       "      <td>1.657600</td>\n",
       "    </tr>\n",
       "    <tr>\n",
       "      <td>60</td>\n",
       "      <td>1.636300</td>\n",
       "    </tr>\n",
       "    <tr>\n",
       "      <td>70</td>\n",
       "      <td>1.436800</td>\n",
       "    </tr>\n",
       "    <tr>\n",
       "      <td>80</td>\n",
       "      <td>1.474600</td>\n",
       "    </tr>\n",
       "    <tr>\n",
       "      <td>90</td>\n",
       "      <td>1.196700</td>\n",
       "    </tr>\n",
       "    <tr>\n",
       "      <td>100</td>\n",
       "      <td>1.200600</td>\n",
       "    </tr>\n",
       "    <tr>\n",
       "      <td>110</td>\n",
       "      <td>1.229900</td>\n",
       "    </tr>\n",
       "    <tr>\n",
       "      <td>120</td>\n",
       "      <td>1.098100</td>\n",
       "    </tr>\n",
       "  </tbody>\n",
       "</table><p>"
      ],
      "text/plain": [
       "<IPython.core.display.HTML object>"
      ]
     },
     "metadata": {},
     "output_type": "display_data"
    },
    {
     "data": {
      "text/plain": [
       "TrainOutput(global_step=120, training_loss=1.7077202796936035, metrics={'train_runtime': 256.7414, 'train_samples_per_second': 3.739, 'train_steps_per_second': 0.467, 'total_flos': 7528426536960.0, 'train_loss': 1.7077202796936035, 'epoch': 6.0})"
      ]
     },
     "execution_count": 25,
     "metadata": {},
     "output_type": "execute_result"
    }
   ],
   "source": [
    "# model train\n",
    "from transformers import MobileBertForSequenceClassification, Trainer, TrainingArguments\n",
    "\n",
    "# model = MobileBertForSequenceClassification.from_pretrained('google/mobilebert-uncased', num_labels=num_labels)\n",
    "model = MobileBertForSequenceClassification.from_pretrained('./results_mobilebert/checkpoint-120')\n",
    "\n",
    "training_args = TrainingArguments(\n",
    "    output_dir='./results_mobilebert_new',\n",
    "    num_train_epochs=6,\n",
    "    per_device_train_batch_size=8,\n",
    "    per_device_eval_batch_size=8,\n",
    "    logging_dir='./logs_mobilebert_new',\n",
    "    logging_steps=10,\n",
    ")\n",
    "\n",
    "trainer = Trainer(\n",
    "    model=model,\n",
    "    args=training_args,\n",
    "    train_dataset=train_dataset,\n",
    "    eval_dataset=val_dataset,\n",
    ")\n",
    "trainer.train()"
   ]
  },
  {
   "cell_type": "code",
   "execution_count": 26,
   "id": "13cac2c9",
   "metadata": {},
   "outputs": [
    {
     "name": "stderr",
     "output_type": "stream",
     "text": [
      "C:\\Users\\Meet\\AppData\\Roaming\\Python\\Python313\\site-packages\\torch\\utils\\data\\dataloader.py:666: UserWarning: 'pin_memory' argument is set as true but no accelerator is found, then device pinned memory won't be used.\n",
      "  warnings.warn(warn_msg)\n"
     ]
    },
    {
     "data": {
      "text/html": [
       "\n",
       "    <div>\n",
       "      \n",
       "      <progress value='5' max='5' style='width:300px; height:20px; vertical-align: middle;'></progress>\n",
       "      [5/5 00:02]\n",
       "    </div>\n",
       "    "
      ],
      "text/plain": [
       "<IPython.core.display.HTML object>"
      ]
     },
     "metadata": {},
     "output_type": "display_data"
    },
    {
     "name": "stdout",
     "output_type": "stream",
     "text": [
      "{'eval_loss': 4.077853679656982, 'eval_runtime': 3.1494, 'eval_samples_per_second': 12.701, 'eval_steps_per_second': 1.588, 'epoch': 6.0}\n"
     ]
    }
   ],
   "source": [
    "# evaluate\n",
    "print(trainer.evaluate())"
   ]
  },
  {
   "cell_type": "code",
   "execution_count": 38,
   "id": "b0b984a8",
   "metadata": {},
   "outputs": [
    {
     "name": "stderr",
     "output_type": "stream",
     "text": [
      "Some weights of MobileBertForSequenceClassification were not initialized from the model checkpoint at google/mobilebert-uncased and are newly initialized: ['classifier.bias', 'classifier.weight']\n",
      "You should probably TRAIN this model on a down-stream task to be able to use it for predictions and inference.\n"
     ]
    },
    {
     "name": "stdout",
     "output_type": "stream",
     "text": [
      "Predicted topic: web\n"
     ]
    }
   ],
   "source": [
    "# prediction\n",
    "from transformers import MobileBertTokenizer, MobileBertForSequenceClassification\n",
    "import torch\n",
    "\n",
    "tokenizer = MobileBertTokenizer.from_pretrained('google/mobilebert-uncased')\n",
    "model = MobileBertForSequenceClassification.from_pretrained('google/mobilebert-uncased', num_labels=num_labels)\n",
    "# model = MobileBertForSequenceClassification.from_pretrained('./results_mobilebert/checkpoint-120')\n",
    "\n",
    "model.eval()\n",
    "\n",
    "test_texts = [\"organ choos concern eye stage three point despit senior serv citizen idea u\"]\n",
    "test_encodings = tokenizer(\n",
    "    test_texts,\n",
    "    padding='max_length',\n",
    "    truncation=True,\n",
    "    max_length=64,\n",
    "    return_tensors='pt'\n",
    ")\n",
    "with torch.no_grad():\n",
    "    outputs = model(**{k: v for k, v in test_encodings.items()})\n",
    "    probs = torch.softmax(outputs.logits, dim=1)\n",
    "    pred_label = probs.argmax(dim=1).item()\n",
    "    pred_topic = le.inverse_transform([pred_label])[0]\n",
    "    print(\"Predicted topic:\", pred_topic)"
   ]
  },
  {
   "cell_type": "code",
   "execution_count": 39,
   "id": "9c8b8030",
   "metadata": {},
   "outputs": [
    {
     "name": "stdout",
     "output_type": "stream",
     "text": [
      "Accuracy: 0.0250\n",
      "F1-score (weighted): 0.0012\n",
      "F1-score (macro): 0.0024\n",
      "Precision (weighted): 0.0006\n",
      "Recall (weighted): 0.0250\n",
      "Inference time per sample: 103.19 ms\n",
      "Confusion Matrix:\n",
      "[[0 0 0 0 0 0 0 0 0 0 0 0 0 0 0 0 0 0 0 3]\n",
      " [0 0 0 0 0 0 0 0 0 0 0 0 0 0 0 0 0 0 0 3]\n",
      " [0 0 0 0 0 0 0 0 0 0 0 0 0 0 0 0 0 0 0 2]\n",
      " [0 0 0 0 0 0 0 0 0 0 0 0 0 0 0 0 0 0 0 2]\n",
      " [0 0 0 0 0 0 0 0 0 0 0 0 0 0 0 0 0 0 0 2]\n",
      " [0 0 0 0 0 0 0 0 0 0 0 0 0 0 0 0 0 0 0 3]\n",
      " [0 0 0 0 0 0 0 0 0 0 0 0 0 0 0 0 0 0 0 3]\n",
      " [0 0 0 0 0 0 0 0 0 0 0 0 0 0 0 0 0 0 0 1]\n",
      " [0 0 0 0 0 0 0 0 0 0 0 0 0 0 0 0 0 0 0 2]\n",
      " [0 0 0 0 0 0 0 0 0 0 0 0 0 0 0 0 0 0 0 2]\n",
      " [0 0 0 0 0 0 0 0 0 0 0 0 0 0 0 0 0 0 0 1]\n",
      " [0 0 0 0 0 0 0 0 0 0 0 0 0 0 0 0 0 0 0 1]\n",
      " [0 0 0 0 0 0 0 0 0 0 0 0 0 0 0 0 0 0 0 1]\n",
      " [0 0 0 0 0 0 0 0 0 0 0 0 0 0 0 0 0 0 0 3]\n",
      " [0 0 0 0 0 0 0 0 0 0 0 0 0 0 0 0 0 0 0 2]\n",
      " [0 0 0 0 0 0 0 0 0 0 0 0 0 0 0 0 0 0 0 1]\n",
      " [0 0 0 0 0 0 0 0 0 0 0 0 0 0 0 0 0 0 0 3]\n",
      " [0 0 0 0 0 0 0 0 0 0 0 0 0 0 0 0 0 0 0 2]\n",
      " [0 0 0 0 0 0 0 0 0 0 0 0 0 0 0 0 0 0 0 2]\n",
      " [0 0 0 0 0 0 0 0 0 0 0 0 0 0 0 0 0 0 0 1]]\n",
      "Classification Report:\n",
      "                  precision    recall  f1-score   support\n",
      "\n",
      "        artifici       0.00      0.00      0.00         3\n",
      "      blockchain       0.00      0.00      0.00         3\n",
      "          career       0.00      0.00      0.00         2\n",
      "          climat       0.00      0.00      0.00         2\n",
      "      cybersecur       0.00      0.00      0.00         2\n",
      "            data       0.00      0.00      0.00         3\n",
      "           digit       0.00      0.00      0.00         3\n",
      "            educ       0.00      0.00      0.00         1\n",
      "entrepreneurship       0.00      0.00      0.00         2\n",
      "     environment       0.00      0.00      0.00         2\n",
      "          health       0.00      0.00      0.00         1\n",
      "         histori       0.00      0.00      0.00         1\n",
      "          machin       0.00      0.00      0.00         1\n",
      "          person       0.00      0.00      0.00         3\n",
      "       psycholog       0.00      0.00      0.00         2\n",
      "         quantum       0.00      0.00      0.00         1\n",
      "           robot       0.00      0.00      0.00         3\n",
      "        sociolog       0.00      0.00      0.00         2\n",
      "           space       0.00      0.00      0.00         2\n",
      "             web       0.03      1.00      0.05         1\n",
      "\n",
      "        accuracy                           0.03        40\n",
      "       macro avg       0.00      0.05      0.00        40\n",
      "    weighted avg       0.00      0.03      0.00        40\n",
      "\n"
     ]
    },
    {
     "name": "stderr",
     "output_type": "stream",
     "text": [
      "C:\\Users\\Meet\\AppData\\Roaming\\Python\\Python313\\site-packages\\sklearn\\metrics\\_classification.py:1731: UndefinedMetricWarning: Precision is ill-defined and being set to 0.0 in labels with no predicted samples. Use `zero_division` parameter to control this behavior.\n",
      "  _warn_prf(average, modifier, f\"{metric.capitalize()} is\", result.shape[0])\n",
      "C:\\Users\\Meet\\AppData\\Roaming\\Python\\Python313\\site-packages\\sklearn\\metrics\\_classification.py:1731: UndefinedMetricWarning: Precision is ill-defined and being set to 0.0 in labels with no predicted samples. Use `zero_division` parameter to control this behavior.\n",
      "  _warn_prf(average, modifier, f\"{metric.capitalize()} is\", result.shape[0])\n",
      "C:\\Users\\Meet\\AppData\\Roaming\\Python\\Python313\\site-packages\\sklearn\\metrics\\_classification.py:1731: UndefinedMetricWarning: Precision is ill-defined and being set to 0.0 in labels with no predicted samples. Use `zero_division` parameter to control this behavior.\n",
      "  _warn_prf(average, modifier, f\"{metric.capitalize()} is\", result.shape[0])\n"
     ]
    }
   ],
   "source": [
    "# Tokenize all validation texts\n",
    "val_encodings = tokenizer(\n",
    "    list(val_texts),\n",
    "    padding='max_length',\n",
    "    truncation=True,\n",
    "    max_length=64,\n",
    "    return_tensors='pt'\n",
    ")\n",
    "\n",
    "# Move labels to numpy\n",
    "y_true = np.array(val_labels)\n",
    "\n",
    "# Inference and Timing\n",
    "model.eval()\n",
    "start = time.time()\n",
    "with torch.no_grad():\n",
    "    # For models like DistilBERT, RoBERTa (no token_type_ids), adjust as needed\n",
    "    inputs = {k: v for k, v in val_encodings.items() if k != \"token_type_ids\" or \"token_type_ids\" in model.forward.__code__.co_varnames}\n",
    "    outputs = model(**inputs)\n",
    "    probs = torch.softmax(outputs.logits, dim=1)\n",
    "    y_pred = probs.argmax(dim=1).cpu().numpy()\n",
    "end = time.time()\n",
    "inference_time = (end - start) / len(val_texts)  # per sample\n",
    "\n",
    "# Metrics\n",
    "acc = accuracy_score(y_true, y_pred)\n",
    "f1_weighted = f1_score(y_true, y_pred, average='weighted')\n",
    "f1_macro = f1_score(y_true, y_pred, average='macro')\n",
    "prec = precision_score(y_true, y_pred, average='weighted', zero_division=0)\n",
    "rec = recall_score(y_true, y_pred, average='weighted')\n",
    "cm = confusion_matrix(y_true, y_pred)\n",
    "report = classification_report(y_true, y_pred, target_names=le.classes_)\n",
    "\n",
    "print(f\"Accuracy: {acc:.4f}\")\n",
    "print(f\"F1-score (weighted): {f1_weighted:.4f}\")\n",
    "print(f\"F1-score (macro): {f1_macro:.4f}\")\n",
    "print(f\"Precision (weighted): {prec:.4f}\")\n",
    "print(f\"Recall (weighted): {rec:.4f}\")\n",
    "print(f\"Inference time per sample: {inference_time*1000:.2f} ms\")\n",
    "print(\"Confusion Matrix:\")\n",
    "print(cm)\n",
    "print(\"Classification Report:\")\n",
    "print(report)"
   ]
  },
  {
   "cell_type": "markdown",
   "id": "ba926fff",
   "metadata": {},
   "source": [
    "## Electra"
   ]
  },
  {
   "cell_type": "code",
   "execution_count": 32,
   "id": "3cc9933b",
   "metadata": {},
   "outputs": [
    {
     "name": "stderr",
     "output_type": "stream",
     "text": [
      "C:\\Users\\Meet\\AppData\\Roaming\\Python\\Python313\\site-packages\\huggingface_hub\\file_download.py:143: UserWarning: `huggingface_hub` cache-system uses symlinks by default to efficiently store duplicated files but your machine does not support them in C:\\Users\\Meet\\.cache\\huggingface\\hub\\models--google--electra-base-discriminator. Caching files will still work but in a degraded version that might require more space on your disk. This warning can be disabled by setting the `HF_HUB_DISABLE_SYMLINKS_WARNING` environment variable. For more details, see https://huggingface.co/docs/huggingface_hub/how-to-cache#limitations.\n",
      "To support symlinks on Windows, you either need to activate Developer Mode or to run Python as an administrator. In order to activate developer mode, see this article: https://docs.microsoft.com/en-us/windows/apps/get-started/enable-your-device-for-development\n",
      "  warnings.warn(message)\n"
     ]
    },
    {
     "name": "stdout",
     "output_type": "stream",
     "text": [
      "KeysView({'input_ids': tensor([[  101, 17935,  3775,  ...,     0,     0,     0],\n",
      "        [  101,  3813,  2529,  ...,     0,     0,     0],\n",
      "        [  101,  2025,  2594,  ...,     0,     0,     0],\n",
      "        ...,\n",
      "        [  101,  2530,  3519,  ...,     0,     0,     0],\n",
      "        [  101,  2345,  5770,  ...,     0,     0,     0],\n",
      "        [  101,  3693,  3095,  ...,     0,     0,     0]]), 'token_type_ids': tensor([[0, 0, 0,  ..., 0, 0, 0],\n",
      "        [0, 0, 0,  ..., 0, 0, 0],\n",
      "        [0, 0, 0,  ..., 0, 0, 0],\n",
      "        ...,\n",
      "        [0, 0, 0,  ..., 0, 0, 0],\n",
      "        [0, 0, 0,  ..., 0, 0, 0],\n",
      "        [0, 0, 0,  ..., 0, 0, 0]]), 'attention_mask': tensor([[1, 1, 1,  ..., 0, 0, 0],\n",
      "        [1, 1, 1,  ..., 0, 0, 0],\n",
      "        [1, 1, 1,  ..., 0, 0, 0],\n",
      "        ...,\n",
      "        [1, 1, 1,  ..., 0, 0, 0],\n",
      "        [1, 1, 1,  ..., 0, 0, 0],\n",
      "        [1, 1, 1,  ..., 0, 0, 0]])})\n"
     ]
    }
   ],
   "source": [
    "# tokenize\n",
    "    # organ choos concern eye stage three point despit senior serv citizen idea u\n",
    "from transformers import ElectraTokenizer\n",
    "\n",
    "tokenizer = ElectraTokenizer.from_pretrained('google/electra-base-discriminator')\n",
    "\n",
    "def tokenize(texts, max_length=64):\n",
    "    return tokenizer(\n",
    "        list(texts),\n",
    "        padding='max_length',\n",
    "        truncation=True,\n",
    "        max_length=max_length,\n",
    "        return_tensors='pt'\n",
    "    )\n",
    "\n",
    "train_encodings = tokenize(train_texts)\n",
    "val_encodings = tokenize(val_texts)\n",
    "print(train_encodings.keys())"
   ]
  },
  {
   "cell_type": "code",
   "execution_count": 33,
   "id": "1123746e",
   "metadata": {},
   "outputs": [
    {
     "name": "stdout",
     "output_type": "stream",
     "text": [
      "160 40\n"
     ]
    }
   ],
   "source": [
    "# datasets objects\n",
    "import torch\n",
    "\n",
    "class BertDataset(torch.utils.data.Dataset):\n",
    "    def __init__(self, encodings, labels):\n",
    "        self.encodings = encodings\n",
    "        self.labels = labels\n",
    "\n",
    "    def __getitem__(self, idx):\n",
    "        item = {key: val[idx] for key, val in self.encodings.items()}\n",
    "        item['labels'] = torch.tensor(self.labels.iloc[idx])\n",
    "        return item\n",
    "\n",
    "    def __len__(self):\n",
    "        return len(self.labels)\n",
    "\n",
    "train_dataset = BertDataset(train_encodings, train_labels)\n",
    "val_dataset = BertDataset(val_encodings, val_labels)\n",
    "print(len(train_dataset), len(val_dataset))"
   ]
  },
  {
   "cell_type": "code",
   "execution_count": 35,
   "id": "e5216190",
   "metadata": {},
   "outputs": [
    {
     "name": "stderr",
     "output_type": "stream",
     "text": [
      "Some weights of ElectraForSequenceClassification were not initialized from the model checkpoint at google/electra-base-discriminator and are newly initialized: ['classifier.dense.bias', 'classifier.dense.weight', 'classifier.out_proj.bias', 'classifier.out_proj.weight']\n",
      "You should probably TRAIN this model on a down-stream task to be able to use it for predictions and inference.\n",
      "C:\\Users\\Meet\\AppData\\Roaming\\Python\\Python313\\site-packages\\torch\\utils\\data\\dataloader.py:666: UserWarning: 'pin_memory' argument is set as true but no accelerator is found, then device pinned memory won't be used.\n",
      "  warnings.warn(warn_msg)\n"
     ]
    },
    {
     "data": {
      "text/html": [
       "\n",
       "    <div>\n",
       "      \n",
       "      <progress value='160' max='160' style='width:300px; height:20px; vertical-align: middle;'></progress>\n",
       "      [160/160 16:34, Epoch 8/8]\n",
       "    </div>\n",
       "    <table border=\"1\" class=\"dataframe\">\n",
       "  <thead>\n",
       " <tr style=\"text-align: left;\">\n",
       "      <th>Step</th>\n",
       "      <th>Training Loss</th>\n",
       "    </tr>\n",
       "  </thead>\n",
       "  <tbody>\n",
       "    <tr>\n",
       "      <td>10</td>\n",
       "      <td>3.012200</td>\n",
       "    </tr>\n",
       "    <tr>\n",
       "      <td>20</td>\n",
       "      <td>2.994300</td>\n",
       "    </tr>\n",
       "    <tr>\n",
       "      <td>30</td>\n",
       "      <td>2.992600</td>\n",
       "    </tr>\n",
       "    <tr>\n",
       "      <td>40</td>\n",
       "      <td>2.994400</td>\n",
       "    </tr>\n",
       "    <tr>\n",
       "      <td>50</td>\n",
       "      <td>2.966100</td>\n",
       "    </tr>\n",
       "    <tr>\n",
       "      <td>60</td>\n",
       "      <td>2.987200</td>\n",
       "    </tr>\n",
       "    <tr>\n",
       "      <td>70</td>\n",
       "      <td>2.975500</td>\n",
       "    </tr>\n",
       "    <tr>\n",
       "      <td>80</td>\n",
       "      <td>2.972900</td>\n",
       "    </tr>\n",
       "    <tr>\n",
       "      <td>90</td>\n",
       "      <td>2.951200</td>\n",
       "    </tr>\n",
       "    <tr>\n",
       "      <td>100</td>\n",
       "      <td>2.978600</td>\n",
       "    </tr>\n",
       "    <tr>\n",
       "      <td>110</td>\n",
       "      <td>2.964600</td>\n",
       "    </tr>\n",
       "    <tr>\n",
       "      <td>120</td>\n",
       "      <td>2.958100</td>\n",
       "    </tr>\n",
       "    <tr>\n",
       "      <td>130</td>\n",
       "      <td>2.952300</td>\n",
       "    </tr>\n",
       "    <tr>\n",
       "      <td>140</td>\n",
       "      <td>2.978200</td>\n",
       "    </tr>\n",
       "    <tr>\n",
       "      <td>150</td>\n",
       "      <td>2.922400</td>\n",
       "    </tr>\n",
       "    <tr>\n",
       "      <td>160</td>\n",
       "      <td>2.977300</td>\n",
       "    </tr>\n",
       "  </tbody>\n",
       "</table><p>"
      ],
      "text/plain": [
       "<IPython.core.display.HTML object>"
      ]
     },
     "metadata": {},
     "output_type": "display_data"
    },
    {
     "name": "stderr",
     "output_type": "stream",
     "text": [
      "Xet Storage is enabled for this repo, but the 'hf_xet' package is not installed. Falling back to regular HTTP download. For better performance, install the package with: `pip install huggingface_hub[hf_xet]` or `pip install hf_xet`\n"
     ]
    },
    {
     "data": {
      "text/plain": [
       "TrainOutput(global_step=160, training_loss=2.9736170411109923, metrics={'train_runtime': 1003.6408, 'train_samples_per_second': 1.275, 'train_steps_per_second': 0.159, 'total_flos': 42104572477440.0, 'train_loss': 2.9736170411109923, 'epoch': 8.0})"
      ]
     },
     "execution_count": 35,
     "metadata": {},
     "output_type": "execute_result"
    }
   ],
   "source": [
    "# model train\n",
    "from transformers import ElectraForSequenceClassification, Trainer, TrainingArguments\n",
    "\n",
    "model = ElectraForSequenceClassification.from_pretrained('google/electra-base-discriminator', num_labels=num_labels)\n",
    "\n",
    "training_args = TrainingArguments(\n",
    "    output_dir='./results_electra',\n",
    "    num_train_epochs=8,\n",
    "    per_device_train_batch_size=8,\n",
    "    per_device_eval_batch_size=8,\n",
    "    logging_dir='./logs_electra',\n",
    "    logging_steps=10,\n",
    ")\n",
    "\n",
    "trainer = Trainer(\n",
    "    model=model,\n",
    "    args=training_args,\n",
    "    train_dataset=train_dataset,\n",
    "    eval_dataset=val_dataset,\n",
    ")\n",
    "trainer.train()"
   ]
  },
  {
   "cell_type": "code",
   "execution_count": 36,
   "id": "7d13d257",
   "metadata": {},
   "outputs": [
    {
     "name": "stderr",
     "output_type": "stream",
     "text": [
      "C:\\Users\\Meet\\AppData\\Roaming\\Python\\Python313\\site-packages\\torch\\utils\\data\\dataloader.py:666: UserWarning: 'pin_memory' argument is set as true but no accelerator is found, then device pinned memory won't be used.\n",
      "  warnings.warn(warn_msg)\n"
     ]
    },
    {
     "data": {
      "text/html": [
       "\n",
       "    <div>\n",
       "      \n",
       "      <progress value='5' max='5' style='width:300px; height:20px; vertical-align: middle;'></progress>\n",
       "      [5/5 00:11]\n",
       "    </div>\n",
       "    "
      ],
      "text/plain": [
       "<IPython.core.display.HTML object>"
      ]
     },
     "metadata": {},
     "output_type": "display_data"
    },
    {
     "name": "stdout",
     "output_type": "stream",
     "text": [
      "{'eval_loss': 2.948347568511963, 'eval_runtime': 14.3498, 'eval_samples_per_second': 2.788, 'eval_steps_per_second': 0.348, 'epoch': 8.0}\n"
     ]
    }
   ],
   "source": [
    "# evaluate\n",
    "print(trainer.evaluate())"
   ]
  },
  {
   "cell_type": "code",
   "execution_count": 41,
   "id": "c53f4507",
   "metadata": {},
   "outputs": [
    {
     "name": "stderr",
     "output_type": "stream",
     "text": [
      "Some weights of ElectraForSequenceClassification were not initialized from the model checkpoint at google/electra-base-discriminator and are newly initialized: ['classifier.dense.bias', 'classifier.dense.weight', 'classifier.out_proj.bias', 'classifier.out_proj.weight']\n",
      "You should probably TRAIN this model on a down-stream task to be able to use it for predictions and inference.\n"
     ]
    },
    {
     "name": "stdout",
     "output_type": "stream",
     "text": [
      "Predicted topic: health\n"
     ]
    }
   ],
   "source": [
    "# prediction\n",
    "from transformers import ElectraTokenizer, ElectraForSequenceClassification\n",
    "import torch\n",
    "\n",
    "tokenizer = ElectraTokenizer.from_pretrained('google/electra-base-discriminator')\n",
    "model = ElectraForSequenceClassification.from_pretrained('google/electra-base-discriminator', num_labels=num_labels)\n",
    "model.eval()\n",
    "\n",
    "test_text = [\"organ choos concern eye stage three point despit senior serv citizen idea u\"]\n",
    "test_encodings = tokenizer(\n",
    "    test_texts,\n",
    "    padding='max_length',\n",
    "    truncation=True,\n",
    "    max_length=64,\n",
    "    return_tensors='pt'\n",
    ")\n",
    "with torch.no_grad():\n",
    "    outputs = model(**{k: v for k, v in test_encodings.items()})\n",
    "    probs = torch.softmax(outputs.logits, dim=1)\n",
    "    pred_label = probs.argmax(dim=1).item()\n",
    "    pred_topic = le.inverse_transform([pred_label])[0]\n",
    "    print(\"Predicted topic:\", pred_topic)"
   ]
  },
  {
   "cell_type": "code",
   "execution_count": 42,
   "id": "a79bad45",
   "metadata": {},
   "outputs": [
    {
     "name": "stdout",
     "output_type": "stream",
     "text": [
      "Accuracy: 0.0500\n",
      "F1-score (weighted): 0.0214\n",
      "F1-score (macro): 0.0143\n",
      "Precision (weighted): 0.0136\n",
      "Recall (weighted): 0.0500\n",
      "Inference time per sample: 280.20 ms\n",
      "Confusion Matrix:\n",
      "[[0 0 0 1 0 0 0 0 0 0 2 0 0 0 0 0 0 0 0 0]\n",
      " [0 0 0 0 0 0 0 2 0 0 1 0 0 0 0 0 0 0 0 0]\n",
      " [0 0 0 0 0 0 0 0 0 0 2 0 0 0 0 0 0 0 0 0]\n",
      " [0 0 0 0 0 0 0 0 0 0 2 0 0 0 0 0 0 0 0 0]\n",
      " [0 0 0 0 0 0 0 1 0 0 1 0 0 0 0 0 0 0 0 0]\n",
      " [0 0 0 0 0 0 0 1 0 0 0 0 0 0 0 0 2 0 0 0]\n",
      " [0 0 0 0 0 0 0 1 0 0 1 0 0 0 0 0 1 0 0 0]\n",
      " [0 0 0 0 0 0 0 0 0 0 0 0 0 0 0 0 1 0 0 0]\n",
      " [0 0 0 0 0 0 0 0 0 0 1 0 0 0 0 0 1 0 0 0]\n",
      " [0 0 0 0 0 0 0 1 0 0 0 0 0 0 0 0 1 0 0 0]\n",
      " [0 0 0 0 0 0 0 1 0 0 0 0 0 0 0 0 0 0 0 0]\n",
      " [0 0 0 0 0 0 0 0 0 0 1 0 0 0 0 0 0 0 0 0]\n",
      " [0 0 0 0 0 0 0 1 0 0 0 0 0 0 0 0 0 0 0 0]\n",
      " [0 0 0 0 0 0 0 1 0 0 2 0 0 0 0 0 0 0 0 0]\n",
      " [0 0 0 0 0 0 0 1 0 0 0 0 0 0 0 0 1 0 0 0]\n",
      " [0 0 0 0 0 0 0 0 0 0 0 0 0 0 0 0 1 0 0 0]\n",
      " [0 0 0 0 0 0 0 0 0 0 1 0 0 0 0 0 2 0 0 0]\n",
      " [0 0 0 0 0 0 0 0 0 0 2 0 0 0 0 0 0 0 0 0]\n",
      " [0 0 0 0 0 0 0 0 0 0 1 0 0 0 0 0 1 0 0 0]\n",
      " [0 0 0 0 0 0 0 0 0 0 1 0 0 0 0 0 0 0 0 0]]\n",
      "Classification Report:\n",
      "                  precision    recall  f1-score   support\n",
      "\n",
      "        artifici       0.00      0.00      0.00         3\n",
      "      blockchain       0.00      0.00      0.00         3\n",
      "          career       0.00      0.00      0.00         2\n",
      "          climat       0.00      0.00      0.00         2\n",
      "      cybersecur       0.00      0.00      0.00         2\n",
      "            data       0.00      0.00      0.00         3\n",
      "           digit       0.00      0.00      0.00         3\n",
      "            educ       0.00      0.00      0.00         1\n",
      "entrepreneurship       0.00      0.00      0.00         2\n",
      "     environment       0.00      0.00      0.00         2\n",
      "          health       0.00      0.00      0.00         1\n",
      "         histori       0.00      0.00      0.00         1\n",
      "          machin       0.00      0.00      0.00         1\n",
      "          person       0.00      0.00      0.00         3\n",
      "       psycholog       0.00      0.00      0.00         2\n",
      "         quantum       0.00      0.00      0.00         1\n",
      "           robot       0.18      0.67      0.29         3\n",
      "        sociolog       0.00      0.00      0.00         2\n",
      "           space       0.00      0.00      0.00         2\n",
      "             web       0.00      0.00      0.00         1\n",
      "\n",
      "        accuracy                           0.05        40\n",
      "       macro avg       0.01      0.03      0.01        40\n",
      "    weighted avg       0.01      0.05      0.02        40\n",
      "\n"
     ]
    },
    {
     "name": "stderr",
     "output_type": "stream",
     "text": [
      "C:\\Users\\Meet\\AppData\\Roaming\\Python\\Python313\\site-packages\\sklearn\\metrics\\_classification.py:1731: UndefinedMetricWarning: Precision is ill-defined and being set to 0.0 in labels with no predicted samples. Use `zero_division` parameter to control this behavior.\n",
      "  _warn_prf(average, modifier, f\"{metric.capitalize()} is\", result.shape[0])\n",
      "C:\\Users\\Meet\\AppData\\Roaming\\Python\\Python313\\site-packages\\sklearn\\metrics\\_classification.py:1731: UndefinedMetricWarning: Precision is ill-defined and being set to 0.0 in labels with no predicted samples. Use `zero_division` parameter to control this behavior.\n",
      "  _warn_prf(average, modifier, f\"{metric.capitalize()} is\", result.shape[0])\n",
      "C:\\Users\\Meet\\AppData\\Roaming\\Python\\Python313\\site-packages\\sklearn\\metrics\\_classification.py:1731: UndefinedMetricWarning: Precision is ill-defined and being set to 0.0 in labels with no predicted samples. Use `zero_division` parameter to control this behavior.\n",
      "  _warn_prf(average, modifier, f\"{metric.capitalize()} is\", result.shape[0])\n"
     ]
    }
   ],
   "source": [
    "# Tokenize all validation texts\n",
    "val_encodings = tokenizer(\n",
    "    list(val_texts),\n",
    "    padding='max_length',\n",
    "    truncation=True,\n",
    "    max_length=64,\n",
    "    return_tensors='pt'\n",
    ")\n",
    "\n",
    "# Move labels to numpy\n",
    "y_true = np.array(val_labels)\n",
    "\n",
    "# Inference and Timing\n",
    "model.eval()\n",
    "start = time.time()\n",
    "with torch.no_grad():\n",
    "    # For models like DistilBERT, RoBERTa (no token_type_ids), adjust as needed\n",
    "    inputs = {k: v for k, v in val_encodings.items() if k != \"token_type_ids\" or \"token_type_ids\" in model.forward.__code__.co_varnames}\n",
    "    outputs = model(**inputs)\n",
    "    probs = torch.softmax(outputs.logits, dim=1)\n",
    "    y_pred = probs.argmax(dim=1).cpu().numpy()\n",
    "end = time.time()\n",
    "inference_time = (end - start) / len(val_texts)  # per sample\n",
    "\n",
    "# Metrics\n",
    "acc = accuracy_score(y_true, y_pred)\n",
    "f1_weighted = f1_score(y_true, y_pred, average='weighted')\n",
    "f1_macro = f1_score(y_true, y_pred, average='macro')\n",
    "prec = precision_score(y_true, y_pred, average='weighted', zero_division=0)\n",
    "rec = recall_score(y_true, y_pred, average='weighted')\n",
    "cm = confusion_matrix(y_true, y_pred)\n",
    "report = classification_report(y_true, y_pred, target_names=le.classes_)\n",
    "\n",
    "print(f\"Accuracy: {acc:.4f}\")\n",
    "print(f\"F1-score (weighted): {f1_weighted:.4f}\")\n",
    "print(f\"F1-score (macro): {f1_macro:.4f}\")\n",
    "print(f\"Precision (weighted): {prec:.4f}\")\n",
    "print(f\"Recall (weighted): {rec:.4f}\")\n",
    "print(f\"Inference time per sample: {inference_time*1000:.2f} ms\")\n",
    "print(\"Confusion Matrix:\")\n",
    "print(cm)\n",
    "print(\"Classification Report:\")\n",
    "print(report)"
   ]
  },
  {
   "cell_type": "code",
   "execution_count": 44,
   "id": "f5c2aee0",
   "metadata": {},
   "outputs": [],
   "source": [
    "results.append({\n",
    "    \"model\": \"DistilBERT\",  # Change this per model\n",
    "    \"accuracy\": acc,\n",
    "    \"f1_weighted\": f1_weighted,\n",
    "    \"f1_macro\": f1_macro,\n",
    "    \"precision\": prec,\n",
    "    \"recall\": rec,\n",
    "    \"inference_time_ms\": inference_time * 1000  # convert s to ms\n",
    "})"
   ]
  },
  {
   "cell_type": "code",
   "execution_count": 56,
   "id": "53ca388f",
   "metadata": {},
   "outputs": [],
   "source": [
    "results.append({\n",
    "    \"model\": \"RoBERTa\",  # Change this per model\n",
    "    \"accuracy\": acc,\n",
    "    \"f1_weighted\": f1_weighted,\n",
    "    \"f1_macro\": f1_macro,\n",
    "    \"precision\": prec,\n",
    "    \"recall\": rec,\n",
    "    \"inference_time_ms\": inference_time * 1000  # convert s to ms\n",
    "})"
   ]
  },
  {
   "cell_type": "code",
   "execution_count": 48,
   "id": "3568f6bf",
   "metadata": {},
   "outputs": [],
   "source": [
    "results.append({\n",
    "    \"model\": \"ALBERT\",  # Change this per model\n",
    "    \"accuracy\": acc,\n",
    "    \"f1_weighted\": f1_weighted,\n",
    "    \"f1_macro\": f1_macro,\n",
    "    \"precision\": prec,\n",
    "    \"recall\": rec,\n",
    "    \"inference_time_ms\": inference_time * 1000  # convert s to ms\n",
    "})"
   ]
  },
  {
   "cell_type": "code",
   "execution_count": 49,
   "id": "9beb361b",
   "metadata": {},
   "outputs": [],
   "source": [
    "results.append({\n",
    "    \"model\": \"MobileBERT\",  # Change this per model\n",
    "    \"accuracy\": acc,\n",
    "    \"f1_weighted\": f1_weighted,\n",
    "    \"f1_macro\": f1_macro,\n",
    "    \"precision\": prec,\n",
    "    \"recall\": rec,\n",
    "    \"inference_time_ms\": inference_time * 1000  # convert s to ms\n",
    "})"
   ]
  },
  {
   "cell_type": "code",
   "execution_count": 50,
   "id": "161f7415",
   "metadata": {},
   "outputs": [],
   "source": [
    "results.append({\n",
    "    \"model\": \"ELECTRA\",  # Change this per model\n",
    "    \"accuracy\": acc,\n",
    "    \"f1_weighted\": f1_weighted,\n",
    "    \"f1_macro\": f1_macro,\n",
    "    \"precision\": prec,\n",
    "    \"recall\": rec,\n",
    "    \"inference_time_ms\": inference_time * 1000  # convert s to ms\n",
    "})"
   ]
  },
  {
   "cell_type": "code",
   "execution_count": 57,
   "id": "709d2848",
   "metadata": {},
   "outputs": [
    {
     "name": "stdout",
     "output_type": "stream",
     "text": [
      "        model  accuracy  f1_weighted  f1_macro  precision  recall  \\\n",
      "0  DistilBERT      0.05     0.021429  0.014286   0.013636    0.05   \n",
      "1     RoBerta      0.05     0.021429  0.014286   0.013636    0.05   \n",
      "2      ALBERT      0.05     0.021429  0.014286   0.013636    0.05   \n",
      "3  MobileBERT      0.05     0.021429  0.014286   0.013636    0.05   \n",
      "4     ELECTRA      0.05     0.021429  0.014286   0.013636    0.05   \n",
      "5     RoBERTa      0.05     0.021429  0.014286   0.013636    0.05   \n",
      "\n",
      "   inference_time_ms  \n",
      "0         280.195421  \n",
      "1         280.195421  \n",
      "2         280.195421  \n",
      "3         280.195421  \n",
      "4         280.195421  \n",
      "5         280.195421  \n"
     ]
    }
   ],
   "source": [
    "import pandas as pd\n",
    "\n",
    "df_results = pd.DataFrame(results)\n",
    "print(df_results)"
   ]
  },
  {
   "cell_type": "code",
   "execution_count": 55,
   "id": "6519722f",
   "metadata": {},
   "outputs": [
    {
     "data": {
      "image/png": "[encoded data removed]",
      "text/plain": [
       "<Figure size 1200x1000 with 2 Axes>"
      ]
     },
     "metadata": {},
     "output_type": "display_data"
    }
   ],
   "source": [
    "import matplotlib.pyplot as plt\n",
    "import seaborn as sns\n",
    "\n",
    "plt.figure(figsize=(12,10))\n",
    "sns.heatmap(cm, annot=True, fmt='d', cmap='Blues', \n",
    "            xticklabels=le.classes_, yticklabels=le.classes_)\n",
    "plt.xlabel('Predicted')\n",
    "plt.ylabel('True')\n",
    "plt.title('Confusion Matrix - MobileBERT')\n",
    "plt.show()"
   ]
  },
  {
   "cell_type": "code",
   "execution_count": 59,
   "id": "8323b596",
   "metadata": {},
   "outputs": [
    {
     "name": "stdout",
     "output_type": "stream",
     "text": [
      "Best model based on accuracy:\n",
      " model                DistilBERT\n",
      "accuracy                   0.05\n",
      "f1_weighted            0.021429\n",
      "f1_macro               0.014286\n",
      "precision              0.013636\n",
      "recall                     0.05\n",
      "inference_time_ms    280.195421\n",
      "Name: 0, dtype: object\n"
     ]
    }
   ],
   "source": [
    "        # Identify best model - Tried to get it\n",
    "df_results = pd.DataFrame(results)\n",
    "best_row = df_results.loc[df_results['accuracy'].idxmax()]\n",
    "print(\"Best model based on accuracy:\\n\", best_row)"
   ]
  }
 ],
 "metadata": {
  "kernelspec": {
   "display_name": "Python 3",
   "language": "python",
   "name": "python3"
  },
  "language_info": {
   "codemirror_mode": {
    "name": "ipython",
    "version": 3
   },
   "file_extension": ".py",
   "mimetype": "text/x-python",
   "name": "python",
   "nbconvert_exporter": "python",
   "pygments_lexer": "ipython3",
   "version": "3.13.5"
  }
 },
 "nbformat": 4,
 "nbformat_minor": 5
}
